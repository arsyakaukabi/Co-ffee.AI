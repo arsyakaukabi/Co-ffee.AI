{
  "nbformat": 4,
  "nbformat_minor": 0,
  "metadata": {
    "colab": {
      "name": "TDCNN_3.ipynb",
      "provenance": [],
      "collapsed_sections": []
    },
    "kernelspec": {
      "name": "python3",
      "display_name": "Python 3"
    },
    "language_info": {
      "name": "python"
    },
    "accelerator": "GPU"
  },
  "cells": [
    {
      "cell_type": "code",
      "source": [
        "from google.colab import drive\n",
        "drive.mount('/content/drive')"
      ],
      "metadata": {
        "id": "6IwraCW0htmr",
        "colab": {
          "base_uri": "https://localhost:8080/"
        },
        "outputId": "7cbe17e0-b9ff-4988-d1d5-850717d2c7d0"
      },
      "execution_count": 2,
      "outputs": [
        {
          "output_type": "stream",
          "name": "stdout",
          "text": [
            "Mounted at /content/drive\n"
          ]
        }
      ]
    },
    {
      "cell_type": "code",
      "source": [
        "import os\n",
        "import logging\n",
        "import tensorflow as tf\n",
        "import matplotlib.pyplot as plt\n",
        "import numpy as np\n",
        "# from efficientnet.keras import preprocess_input\n",
        "from keras.models import load_model\n",
        "from tensorflow.keras.layers import Input\n",
        "from tensorflow.keras.models import Model, Sequential\n",
        "from tensorflow.keras.layers import Input, Layer, ReLU, Conv2D, MaxPooling2D, GlobalAveragePooling2D, Dense, Add, Concatenate, Dropout\n",
        "from tensorflow.keras.models import Model\n",
        "from tensorflow.keras.applications import DenseNet121\n",
        "from tensorflow.keras.applications.vgg16 import VGG16\n",
        "from tensorflow.keras.applications.vgg16 import preprocess_input\n",
        "from tensorflow.keras.preprocessing import image\n",
        "from tensorflow.keras.preprocessing.image import ImageDataGenerator\n",
        "from tensorflow.keras.models import Sequential\n",
        "from tensorflow.keras.callbacks import EarlyStopping\n",
        "from sklearn.metrics import accuracy_score,classification_report,confusion_matrix,ConfusionMatrixDisplay\n",
        "from tensorflow.keras.applications.densenet import preprocess_input\n",
        "from tensorflow.keras.optimizers import Adam\n",
        "from tensorflow.keras.callbacks import ModelCheckpoint, ReduceLROnPlateau\n",
        "from tensorflow.keras.layers import Input, AveragePooling2D, ReLU, AlphaDropout, Conv2D, GlobalAveragePooling2D, Dense, Add, Concatenate, Dropout\n",
        "from tensorflow.keras.models import Model\n",
        "from tensorflow.keras.applications import InceptionV3, VGG16, MobileNetV2, ResNet50V2\n",
        "from tensorflow.keras.applications.inception_v3 import preprocess_input\n",
        "from tensorflow.keras.preprocessing import image\n",
        "from tensorflow.keras.preprocessing.image import ImageDataGenerator\n",
        "from tensorflow.keras.models import Sequential\n",
        "from tensorflow.keras.callbacks import EarlyStopping\n",
        "from sklearn.metrics import accuracy_score,classification_report,confusion_matrix,ConfusionMatrixDisplay\n",
        "from tensorflow.keras.optimizers import Adam, SGD\n",
        "from tensorflow.keras.callbacks import ModelCheckpoint, ReduceLROnPlateau\n",
        "\n",
        "import tensorflow as tf\n",
        "import numpy as np\n",
        "import pandas as pd\n",
        "import matplotlib.pyplot as plt\n",
        "\n",
        "import tensorflow as tf\n",
        "import numpy as np\n",
        "import pandas as pd\n",
        "import matplotlib.pyplot as plt\n",
        "# from keras.utils import load_img, img_to_array\n",
        "\n",
        "tf.get_logger().setLevel(logging.ERROR)\n",
        "\n",
        "os.environ['TF_CPP_MIN_LOG_LEVEL'] = '3' "
      ],
      "metadata": {
        "id": "grezGoG_h3Tt"
      },
      "execution_count": 3,
      "outputs": []
    },
    {
      "cell_type": "code",
      "source": [
        "ns = '3' # stage ke ns\n",
        "name = f'TDCNN_{ns}'\n",
        "\n",
        "labels = ['CLS', 'PLS', 'CLM', 'RSM']"
      ],
      "metadata": {
        "id": "zc-h0Dsy9ciG"
      },
      "execution_count": 4,
      "outputs": []
    },
    {
      "cell_type": "markdown",
      "source": [
        "# Pre-processing of the images"
      ],
      "metadata": {
        "id": "_JT2Av1cm5aa"
      }
    },
    {
      "cell_type": "code",
      "source": [
        "#LOAD THE DATA\n",
        "\n",
        "#Data split\n",
        "train_path=f\"/content/drive/MyDrive/Capstone Co-ffee/newdataset/swatdcnn/data/Augmented/stage_{ns}\"\n",
        "val_path=f\"/content/drive/MyDrive/Capstone Co-ffee/newdataset/swatdcnn/data/Augmented/stage_{ns}/validation\"\n",
        "test_path=f\"/content/drive/MyDrive/Capstone Co-ffee/newdataset/swatdcnn/test/stage-{ns}/test\"\n",
        "\n",
        "#Set image shapes\n",
        "img_rows, img_cols = 224, 224\n",
        "channel_depth = 3\n",
        "input_shape = (img_rows,img_cols,channel_depth)\n",
        "model_input = Input(shape=input_shape)\n"
      ],
      "metadata": {
        "id": "TvrXsTWj7QHM"
      },
      "execution_count": 5,
      "outputs": []
    },
    {
      "cell_type": "code",
      "source": [
        "batch_size = 16\n",
        "\n",
        "def ImgDataGen(file_path,f=False):    \n",
        "    file_datagen = ImageDataGenerator(preprocessing_function=preprocess_input)\n",
        "    file_set = file_datagen.flow_from_directory(\n",
        "        file_path,\n",
        "        target_size = (img_rows,img_cols),\n",
        "        batch_size = batch_size,\n",
        "        class_mode = 'categorical',\n",
        "        shuffle = f,\n",
        "    )\n",
        "    return file_set"
      ],
      "metadata": {
        "id": "eFGNSkGXm2sX"
      },
      "execution_count": 6,
      "outputs": []
    },
    {
      "cell_type": "code",
      "source": [
        "test_set = ImgDataGen(test_path)\n",
        "num_classes= len(test_set.class_indices)"
      ],
      "metadata": {
        "colab": {
          "base_uri": "https://localhost:8080/"
        },
        "id": "I7rIaqjjCXEK",
        "outputId": "c57cb4c2-cba2-4325-dc61-b198b826b9a4"
      },
      "execution_count": 7,
      "outputs": [
        {
          "output_type": "stream",
          "name": "stdout",
          "text": [
            "Found 87 images belonging to 4 classes.\n"
          ]
        }
      ]
    },
    {
      "cell_type": "markdown",
      "source": [
        "# Load Model"
      ],
      "metadata": {
        "id": "oeZmfJaDmSdp"
      }
    },
    {
      "cell_type": "code",
      "source": [
        "model1 = f'/content/drive/MyDrive/Capstone Co-ffee/weights/stage{ns}/densenet121_{ns}.h5'\n",
        "model2 = f'/content/drive/MyDrive/Capstone Co-ffee/weights/stage{ns}/InceptionV3_{ns}.h5'\n",
        "model3 = f'/content/drive/MyDrive/Capstone Co-ffee/weights/stage{ns}/VGG16_{ns}.h5'"
      ],
      "metadata": {
        "id": "YYYSlAxjl_MU"
      },
      "execution_count": 8,
      "outputs": []
    },
    {
      "cell_type": "code",
      "source": [
        "def densenet(model_input):\n",
        "    densenet = DenseNet121(weights='imagenet', include_top=False, input_tensor=model_input)\n",
        "    for layer in densenet.layers:layer.trainable = False\n",
        "    # our layers - you can add more if you want\n",
        "    y = GlobalAveragePooling2D()(densenet.output)\n",
        "    y = Dense(512, activation='relu', use_bias=True)(y)\n",
        "    y = Dropout(0.5)(y)\n",
        "    prediction = Dense(num_classes,activation='softmax')(y)\n",
        "    model = Model(inputs=densenet.input, outputs=prediction, name='DenseNet121')\n",
        "    # tell the model what cost and optimization method to use\n",
        "    model.load_weights(model1)\n",
        "    return model\n",
        "\n",
        "def Inception(model_input):\n",
        "    InceptionV3_builder = InceptionV3(\n",
        "        weights='imagenet', \n",
        "        include_top=False, \n",
        "        input_tensor = model_input\n",
        "    )\n",
        "\n",
        "    #FINE-TUNING\n",
        "    for layer in InceptionV3_builder.layers:\n",
        "        layer.trainable = False\n",
        "    for BatchNormalization in InceptionV3_builder.layers:\n",
        "        BatchNormalization.trainable = True\n",
        "    x = InceptionV3_builder.layers[-1].output    \n",
        "    x = GlobalAveragePooling2D(name='GAP-inceptionv3')(x)\n",
        "    x = Dropout(0.5, name='Droput-inceptionv3')(x)\n",
        "    predictions = Dense(num_classes, activation='softmax', name='Softmax-inceptionv3')(x)\n",
        "    model = Model(inputs=InceptionV3_builder.input, outputs=predictions, name='Inceptionv3')\n",
        "    model.load_weights(model2)\n",
        "    return model\n",
        "\n",
        "def vgg16(model_input):\n",
        "    vgg16 = VGG16(weights='imagenet', include_top=False, input_tensor=model_input)\n",
        "    for layer in vgg16.layers:layer.trainable = False\n",
        "    # our layers - you can add more if you want\n",
        "    y = GlobalAveragePooling2D()(vgg16.output)\n",
        "    y = Dense(512, activation='relu', use_bias=True)(y)\n",
        "    y = Dropout(0.5)(y)\n",
        "    prediction = Dense(num_classes,activation='softmax')(y)\n",
        "    model = Model(inputs=vgg16.input, outputs=prediction, name='VGG16')\n",
        "    # tell the model what cost and optimization method to use\n",
        "    model.load_weights(model3)\n",
        "    return model"
      ],
      "metadata": {
        "id": "yshWxsUjiv37"
      },
      "execution_count": 9,
      "outputs": []
    },
    {
      "cell_type": "code",
      "source": [
        "model1,model2,model3 = densenet(model_input),Inception(model_input),vgg16(model_input)"
      ],
      "metadata": {
        "colab": {
          "base_uri": "https://localhost:8080/"
        },
        "id": "GQ5tdgd-lz_s",
        "outputId": "14de8592-a619-4fa8-ffb2-38fe8d40eb03"
      },
      "execution_count": 10,
      "outputs": [
        {
          "output_type": "stream",
          "name": "stdout",
          "text": [
            "Downloading data from https://storage.googleapis.com/tensorflow/keras-applications/densenet/densenet121_weights_tf_dim_ordering_tf_kernels_notop.h5\n",
            "29089792/29084464 [==============================] - 0s 0us/step\n",
            "29097984/29084464 [==============================] - 0s 0us/step\n",
            "Downloading data from https://storage.googleapis.com/tensorflow/keras-applications/inception_v3/inception_v3_weights_tf_dim_ordering_tf_kernels_notop.h5\n",
            "87916544/87910968 [==============================] - 1s 0us/step\n",
            "87924736/87910968 [==============================] - 1s 0us/step\n",
            "Downloading data from https://storage.googleapis.com/tensorflow/keras-applications/vgg16/vgg16_weights_tf_dim_ordering_tf_kernels_notop.h5\n",
            "58892288/58889256 [==============================] - 1s 0us/step\n",
            "58900480/58889256 [==============================] - 1s 0us/step\n"
          ]
        }
      ]
    },
    {
      "cell_type": "markdown",
      "source": [
        "# Fusion Model"
      ],
      "metadata": {
        "id": "KlNdOB2QBpgg"
      }
    },
    {
      "cell_type": "code",
      "source": [
        "models = [model1, model2, model3]"
      ],
      "metadata": {
        "id": "OU0bTlTmoNs7"
      },
      "execution_count": 11,
      "outputs": []
    },
    {
      "cell_type": "code",
      "source": [
        "[m.layers[0] for m in models]"
      ],
      "metadata": {
        "colab": {
          "base_uri": "https://localhost:8080/"
        },
        "id": "GwDhUw8I9u6e",
        "outputId": "7e1dc519-3180-4ed6-cf51-d576b90bb290"
      },
      "execution_count": 12,
      "outputs": [
        {
          "output_type": "execute_result",
          "data": {
            "text/plain": [
              "[<keras.engine.input_layer.InputLayer at 0x7f658c3151d0>,\n",
              " <keras.engine.input_layer.InputLayer at 0x7f658c3151d0>,\n",
              " <keras.engine.input_layer.InputLayer at 0x7f658c3151d0>]"
            ]
          },
          "metadata": {},
          "execution_count": 12
        }
      ]
    },
    {
      "cell_type": "code",
      "source": [
        "outputs = [m.output for m in models]\n",
        "y = tf.keras.layers.Average()(outputs)\n",
        "TDCNN = Model(model_input, y, name=name)"
      ],
      "metadata": {
        "id": "gLIGjypBpCLZ"
      },
      "execution_count": 13,
      "outputs": []
    },
    {
      "cell_type": "code",
      "source": [
        "TDCNN.input, TDCNN.output"
      ],
      "metadata": {
        "id": "dpoE-x40Uv-V",
        "colab": {
          "base_uri": "https://localhost:8080/"
        },
        "outputId": "26cec340-d3f7-4f0d-aee0-a6151bc182ae"
      },
      "execution_count": 14,
      "outputs": [
        {
          "output_type": "execute_result",
          "data": {
            "text/plain": [
              "(<KerasTensor: shape=(None, 224, 224, 3) dtype=float32 (created by layer 'input_1')>,\n",
              " <KerasTensor: shape=(None, 4) dtype=float32 (created by layer 'average')>)"
            ]
          },
          "metadata": {},
          "execution_count": 14
        }
      ]
    },
    {
      "cell_type": "code",
      "source": [
        "file_model = f\"weights/{name}.h5\"\n",
        "tf.keras.models.save_model(TDCNN,file_model)"
      ],
      "metadata": {
        "id": "Ry04Kp450vSY"
      },
      "execution_count": 15,
      "outputs": []
    },
    {
      "cell_type": "markdown",
      "source": [
        "# Testing"
      ],
      "metadata": {
        "id": "qO078mXkmb5I"
      }
    },
    {
      "cell_type": "code",
      "source": [
        "optimizer = Adam(learning_rate=0.0001)\n",
        "\n",
        "TDCNN.compile(\n",
        "    optimizer=optimizer, \n",
        "    loss='categorical_crossentropy', \n",
        "    metrics=['accuracy']\n",
        ") "
      ],
      "metadata": {
        "id": "01416AGRnFsS"
      },
      "execution_count": 16,
      "outputs": []
    },
    {
      "cell_type": "code",
      "source": [
        "# evaluating test\n",
        "TDCNN.evaluate(test_set,batch_size=32)\n",
        "y_pred = TDCNN.predict(test_set)\n",
        "y_pred = np.argmax(y_pred,axis=1)\n",
        "accuracy_score(y_pred,test_set.classes)\n",
        "print(classification_report(y_pred,test_set.classes))"
      ],
      "metadata": {
        "colab": {
          "base_uri": "https://localhost:8080/"
        },
        "id": "OrVsdrHbnMjj",
        "outputId": "f4af50d1-adf2-408c-9ec9-63ed349a833c"
      },
      "execution_count": 17,
      "outputs": [
        {
          "output_type": "stream",
          "name": "stdout",
          "text": [
            "6/6 [==============================] - 40s 4s/step - loss: 0.1617 - accuracy: 0.9885\n",
            "              precision    recall  f1-score   support\n",
            "\n",
            "           0       1.00      1.00      1.00         8\n",
            "           1       0.97      1.00      0.99        33\n",
            "           2       1.00      0.97      0.98        33\n",
            "           3       1.00      1.00      1.00        13\n",
            "\n",
            "    accuracy                           0.99        87\n",
            "   macro avg       0.99      0.99      0.99        87\n",
            "weighted avg       0.99      0.99      0.99        87\n",
            "\n"
          ]
        }
      ]
    },
    {
      "cell_type": "code",
      "source": [
        "import seaborn as sns\n",
        "\n",
        "# confusion_matrix\n",
        "index = labels\n",
        "columns = labels  \n",
        "\n",
        "cm = confusion_matrix(y_pred, test_set.classes)\n",
        "cm_df = pd.DataFrame(cm,columns,index)                      \n",
        "fig = plt.figure(figsize=(10,8),dpi=100)  \n",
        "fig = sns.heatmap(cm_df,cmap='Blues',annot=True, fmt=\"d\",linewidths=1, square=True)\n"
      ],
      "metadata": {
        "id": "lq92ueduqGSn",
        "colab": {
          "base_uri": "https://localhost:8080/",
          "height": 664
        },
        "outputId": "70c30118-e979-4616-c979-727dc3b87fd2"
      },
      "execution_count": 18,
      "outputs": [
        {
          "output_type": "display_data",
          "data": {
            "text/plain": [
              "<Figure size 1000x800 with 2 Axes>"
            ],
            "image/png": "[encoded data removed]"
          },
          "metadata": {
            "needs_background": "light"
          }
        }
      ]
    },
    {
      "cell_type": "code",
      "source": [
        "image_format = 'svg' # e.g .png, .svg, etc.\n",
        "image_name = name+'.svg'\n",
        "\n",
        "figure = fig.get_figure()  \n",
        "figure.savefig(image_name, format=image_format, dpi=1200)"
      ],
      "metadata": {
        "id": "aa0KF4XJxdIN"
      },
      "execution_count": 19,
      "outputs": []
    }
  ]
}