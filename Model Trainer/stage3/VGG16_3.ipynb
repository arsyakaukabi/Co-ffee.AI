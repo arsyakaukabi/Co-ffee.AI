{
  "cells": [
    {
      "cell_type": "code",
      "execution_count": 1,
      "metadata": {
        "id": "-R5uJoGyMnN-"
      },
      "outputs": [],
      "source": [
        "from tensorflow.keras.layers import Input, Lambda, Dense, Flatten, Dropout, GlobalAveragePooling2D\n",
        "from tensorflow.keras.models import Model\n",
        "from tensorflow.keras.applications.vgg16 import VGG16\n",
        "from tensorflow.keras.applications.vgg16 import preprocess_input\n",
        "from tensorflow.keras.preprocessing import image\n",
        "from tensorflow.keras.preprocessing.image import ImageDataGenerator\n",
        "from tensorflow.keras.models import Sequential\n",
        "from tensorflow.keras.applications.densenet import preprocess_input\n",
        "from tensorflow.keras.optimizers import Adam\n",
        "from tensorflow.keras.callbacks import ModelCheckpoint, ReduceLROnPlateau\n",
        "from sklearn.metrics import accuracy_score,classification_report,confusion_matrix,ConfusionMatrixDisplay\n",
        "\n",
        "import tensorflow as tf\n",
        "import numpy as np\n",
        "import pandas as pd\n",
        "import os\n",
        "import cv2\n",
        "import matplotlib.pyplot as plt"
      ]
    },
    {
      "cell_type": "markdown",
      "metadata": {
        "id": "QfgE-d8CMnOA"
      },
      "source": [
        "# Pre-processing of the images"
      ]
    },
    {
      "cell_type": "code",
      "execution_count": 5,
      "metadata": {
        "id": "kl2mIM3fMnOC"
      },
      "outputs": [],
      "source": [
        "img_rows, img_cols = 224, 224\n",
        "channel_depth = 3\n",
        "input_shape = (img_rows,img_cols,channel_depth)\n",
        "model_input = Input(shape=input_shape)\n",
        "\n",
        "\n",
        "train_path=\"swatdcnn/data/Augmented/stage_3/train\"\n",
        "test_path=\"swatdcnn/test/stage-3/test\"\n",
        "val_path=\"swatdcnn/data/Augmented/stage_3/validation\""
      ]
    },
    {
      "cell_type": "code",
      "execution_count": 6,
      "metadata": {
        "id": "UrOCFfEcMnOC"
      },
      "outputs": [],
      "source": [
        "IMG_SIZE = (224,224)\n",
        "\n",
        "def ImgDataGen(file_path,f=False):    \n",
        "    file_datagen = ImageDataGenerator(preprocessing_function=preprocess_input)\n",
        "    file_set = file_datagen.flow_from_directory(\n",
        "        file_path,\n",
        "        target_size = IMG_SIZE,\n",
        "        batch_size = 16,\n",
        "        class_mode = 'categorical',\n",
        "        shuffle = f\n",
        "    )\n",
        "    return file_set"
      ]
    },
    {
      "cell_type": "code",
      "execution_count": 7,
      "metadata": {
        "colab": {
          "base_uri": "https://localhost:8080/"
        },
        "id": "rBv2XqjmMnOD",
        "outputId": "b4b7fe56-28fa-42fa-ad5f-f83ef066903b"
      },
      "outputs": [
        {
          "name": "stdout",
          "output_type": "stream",
          "text": [
            "Found 6000 images belonging to 4 classes.\n",
            "Found 87 images belonging to 4 classes.\n",
            "Found 177 images belonging to 4 classes.\n"
          ]
        }
      ],
      "source": [
        "training_set, test_set, val_set = ImgDataGen(train_path, f=True), ImgDataGen(test_path), ImgDataGen(val_path)"
      ]
    },
    {
      "cell_type": "code",
      "execution_count": 9,
      "metadata": {
        "colab": {
          "base_uri": "https://localhost:8080/"
        },
        "id": "vL04tNSZMnOD",
        "outputId": "2de52289-ed5b-43f6-9065-8399bfa6e7e4"
      },
      "outputs": [
        {
          "name": "stdout",
          "output_type": "stream",
          "text": [
            "['0_Cercospora', '1_Phoma', '2_Leaf_Miner', '3_Red_Spider_Mite']\n"
          ]
        }
      ],
      "source": [
        "nb_train_samples = len(training_set.filenames)\n",
        "nb_validation_samples = len(val_set.filenames)\n",
        "nb_test_samples = len(test_set.filenames)\n",
        "num_classes= len(training_set.class_indices)\n",
        "labels = [i for i in training_set.class_indices]\n",
        "print(labels)"
      ]
    },
    {
      "cell_type": "markdown",
      "metadata": {
        "id": "4njNbSBpVXTX"
      },
      "source": [
        "# Training using VGG16"
      ]
    },
    {
      "cell_type": "code",
      "execution_count": 15,
      "metadata": {
        "id": "r1deKPfcMnOH"
      },
      "outputs": [],
      "source": [
        "def my_model(model_input):\n",
        "    vgg16 = VGG16(weights='imagenet', include_top=False, input_tensor=model_input)\n",
        "    for layer in vgg16.layers:layer.trainable = False\n",
        "    # our layers - you can add more if you want\n",
        "    y = GlobalAveragePooling2D()(vgg16.output)\n",
        "    y = Dense(512, activation='relu', use_bias=True)(y)\n",
        "    y = Dropout(0.5)(y)\n",
        "    prediction = Dense(num_classes,activation='softmax')(y)\n",
        "    model = Model(inputs=vgg16.input, outputs=prediction, name='VGG16')\n",
        "    # tell the model what cost and optimization method to use\n",
        "    return model"
      ]
    },
    {
      "cell_type": "code",
      "execution_count": 16,
      "metadata": {
        "id": "A1xr9DMPMnOH"
      },
      "outputs": [],
      "source": [
        "model = my_model(model_input)"
      ]
    },
    {
      "cell_type": "code",
      "execution_count": 17,
      "metadata": {
        "colab": {
          "base_uri": "https://localhost:8080/",
          "height": 1000
        },
        "id": "JwBlyu0NMnOH",
        "outputId": "dd99cb7b-43e2-4fb9-e4a1-d4cbb2840a50"
      },
      "outputs": [
        {
          "name": "stdout",
          "output_type": "stream",
          "text": [
            "Epoch 1/25\n",
            "375/375 [==============================] - 48s 126ms/step - loss: 0.9638 - accuracy: 0.5747 - val_loss: 0.6863 - val_accuracy: 0.8523 - lr: 1.0000e-04\n",
            "Epoch 2/25\n",
            "375/375 [==============================] - 47s 126ms/step - loss: 0.6293 - accuracy: 0.7328 - val_loss: 0.4961 - val_accuracy: 0.8636 - lr: 1.0000e-04\n",
            "Epoch 3/25\n",
            "375/375 [==============================] - 48s 129ms/step - loss: 0.5264 - accuracy: 0.7837 - val_loss: 0.4376 - val_accuracy: 0.8807 - lr: 1.0000e-04\n",
            "Epoch 4/25\n",
            "375/375 [==============================] - 47s 126ms/step - loss: 0.4754 - accuracy: 0.8042 - val_loss: 0.3946 - val_accuracy: 0.8636 - lr: 1.0000e-04\n",
            "Epoch 5/25\n",
            "375/375 [==============================] - 48s 127ms/step - loss: 0.4372 - accuracy: 0.8328 - val_loss: 0.3616 - val_accuracy: 0.8920 - lr: 1.0000e-04\n",
            "Epoch 6/25\n",
            "375/375 [==============================] - 49s 130ms/step - loss: 0.4067 - accuracy: 0.8350 - val_loss: 0.3500 - val_accuracy: 0.8920 - lr: 1.0000e-04\n",
            "Epoch 7/25\n",
            "375/375 [==============================] - ETA: 0s - loss: 0.3853 - accuracy: 0.8513\n",
            "Epoch 7: ReduceLROnPlateau reducing learning rate to 4.999999873689376e-05.\n",
            "375/375 [==============================] - 48s 127ms/step - loss: 0.3853 - accuracy: 0.8513 - val_loss: 0.3167 - val_accuracy: 0.8693 - lr: 1.0000e-04\n",
            "Epoch 8/25\n",
            "375/375 [==============================] - 52s 140ms/step - loss: 0.3695 - accuracy: 0.8537 - val_loss: 0.3127 - val_accuracy: 0.8864 - lr: 5.0000e-05\n",
            "Epoch 9/25\n",
            "375/375 [==============================] - ETA: 0s - loss: 0.3586 - accuracy: 0.8635\n",
            "Epoch 9: ReduceLROnPlateau reducing learning rate to 2.499999936844688e-05.\n",
            "375/375 [==============================] - 47s 125ms/step - loss: 0.3586 - accuracy: 0.8635 - val_loss: 0.3062 - val_accuracy: 0.8920 - lr: 5.0000e-05\n",
            "Epoch 10/25\n",
            "375/375 [==============================] - 48s 128ms/step - loss: 0.3501 - accuracy: 0.8685 - val_loss: 0.3052 - val_accuracy: 0.8864 - lr: 2.5000e-05\n",
            "Epoch 11/25\n",
            "375/375 [==============================] - ETA: 0s - loss: 0.3433 - accuracy: 0.8663\n",
            "Epoch 11: ReduceLROnPlateau reducing learning rate to 1.249999968422344e-05.\n",
            "375/375 [==============================] - 47s 125ms/step - loss: 0.3433 - accuracy: 0.8663 - val_loss: 0.3010 - val_accuracy: 0.8920 - lr: 2.5000e-05\n",
            "Epoch 12/25\n",
            "375/375 [==============================] - 47s 125ms/step - loss: 0.3410 - accuracy: 0.8735 - val_loss: 0.3029 - val_accuracy: 0.8864 - lr: 1.2500e-05\n",
            "Epoch 13/25\n",
            "375/375 [==============================] - 48s 128ms/step - loss: 0.3419 - accuracy: 0.8695 - val_loss: 0.3030 - val_accuracy: 0.8977 - lr: 1.2500e-05\n",
            "Epoch 14/25\n",
            "375/375 [==============================] - 48s 127ms/step - loss: 0.3396 - accuracy: 0.8733 - val_loss: 0.3030 - val_accuracy: 0.8864 - lr: 1.2500e-05\n",
            "Epoch 15/25\n",
            "375/375 [==============================] - ETA: 0s - loss: 0.3321 - accuracy: 0.8743\n",
            "Epoch 15: ReduceLROnPlateau reducing learning rate to 6.24999984211172e-06.\n",
            "375/375 [==============================] - 47s 125ms/step - loss: 0.3321 - accuracy: 0.8743 - val_loss: 0.2950 - val_accuracy: 0.8977 - lr: 1.2500e-05\n",
            "Epoch 16/25\n",
            "375/375 [==============================] - 48s 127ms/step - loss: 0.3328 - accuracy: 0.8727 - val_loss: 0.2972 - val_accuracy: 0.8920 - lr: 6.2500e-06\n",
            "Epoch 17/25\n",
            "375/375 [==============================] - ETA: 0s - loss: 0.3320 - accuracy: 0.8745\n",
            "Epoch 17: ReduceLROnPlateau reducing learning rate to 3.12499992105586e-06.\n",
            "375/375 [==============================] - 52s 139ms/step - loss: 0.3320 - accuracy: 0.8745 - val_loss: 0.2972 - val_accuracy: 0.8920 - lr: 6.2500e-06\n",
            "Epoch 18/25\n",
            "375/375 [==============================] - 47s 125ms/step - loss: 0.3314 - accuracy: 0.8733 - val_loss: 0.2974 - val_accuracy: 0.8920 - lr: 3.1250e-06\n",
            "Epoch 19/25\n",
            "375/375 [==============================] - ETA: 0s - loss: 0.3305 - accuracy: 0.8785\n",
            "Epoch 19: ReduceLROnPlateau reducing learning rate to 1.56249996052793e-06.\n",
            "375/375 [==============================] - 48s 128ms/step - loss: 0.3305 - accuracy: 0.8785 - val_loss: 0.2971 - val_accuracy: 0.8920 - lr: 3.1250e-06\n",
            "Epoch 20/25\n",
            "375/375 [==============================] - 47s 126ms/step - loss: 0.3288 - accuracy: 0.8735 - val_loss: 0.2969 - val_accuracy: 0.8920 - lr: 1.5625e-06\n",
            "Epoch 21/25\n",
            "375/375 [==============================] - ETA: 0s - loss: 0.3340 - accuracy: 0.8733\n",
            "Epoch 21: ReduceLROnPlateau reducing learning rate to 1e-06.\n",
            "375/375 [==============================] - 47s 126ms/step - loss: 0.3340 - accuracy: 0.8733 - val_loss: 0.2967 - val_accuracy: 0.8920 - lr: 1.5625e-06\n",
            "Epoch 22/25\n",
            "375/375 [==============================] - 49s 130ms/step - loss: 0.3313 - accuracy: 0.8760 - val_loss: 0.2968 - val_accuracy: 0.8920 - lr: 1.0000e-06\n",
            "Epoch 23/25\n",
            "375/375 [==============================] - 47s 125ms/step - loss: 0.3270 - accuracy: 0.8787 - val_loss: 0.2966 - val_accuracy: 0.8920 - lr: 1.0000e-06\n",
            "Epoch 24/25\n",
            "375/375 [==============================] - 47s 125ms/step - loss: 0.3295 - accuracy: 0.8778 - val_loss: 0.2966 - val_accuracy: 0.8920 - lr: 1.0000e-06\n",
            "Epoch 25/25\n",
            "375/375 [==============================] - 47s 125ms/step - loss: 0.3257 - accuracy: 0.8775 - val_loss: 0.2967 - val_accuracy: 0.8920 - lr: 1.0000e-06\n"
          ]
        },
        {
          "data": {
            "application/vnd.google.colaboratory.intrinsic+json": {
              "type": "string"
            },
            "text/plain": [
              "'00:21:07'"
            ]
          },
          "execution_count": 17,
          "metadata": {},
          "output_type": "execute_result"
        }
      ],
      "source": [
        "#MODEL COMPILATION WITH HYPER-PARAMETERS, LOSS FUNCTIONS AND TRAINING!\n",
        "import time\n",
        "\n",
        "batch_size = 16\n",
        "\n",
        "epochs = 25\n",
        "\n",
        "start_time = time.time()\n",
        "\n",
        "optimizer = Adam(learning_rate=0.0001)\n",
        "\n",
        "model.compile(\n",
        "    optimizer=optimizer, \n",
        "    loss='categorical_crossentropy', \n",
        "    metrics=['accuracy']\n",
        ") \n",
        "\n",
        "reduce_lr = ReduceLROnPlateau(\n",
        "    monitor='val_accuracy', \n",
        "    factor=0.5, \n",
        "    patience=2,                          \n",
        "    verbose=1, \n",
        "    mode='max', \n",
        "    min_lr=0.000001\n",
        ")\n",
        "\n",
        "callbacks = [reduce_lr]\n",
        "\n",
        "history = model.fit(\n",
        "    training_set,\n",
        "    epochs=epochs, \n",
        "    steps_per_epoch=nb_train_samples // batch_size,\n",
        "    validation_data=val_set,\n",
        "    callbacks=callbacks, \n",
        "    validation_steps=nb_validation_samples // batch_size, \n",
        "    verbose=1\n",
        ")\n",
        "\n",
        "elapsed_time = time.time() - start_time\n",
        "time.strftime(\"%H:%M:%S\", time.gmtime(elapsed_time))"
      ]
    },
    {
      "cell_type": "code",
      "execution_count": 18,
      "metadata": {
        "colab": {
          "base_uri": "https://localhost:8080/",
          "height": 265
        },
        "id": "InrwUaLjMnOJ",
        "outputId": "7acd4e3f-0484-47d9-acaa-090db8f9e1d3"
      },
      "outputs": [
        {
          "data": {
            "image/png": "[encoded data removed]",
            "text/plain": [
              "<Figure size 432x288 with 1 Axes>"
            ]
          },
          "metadata": {
            "needs_background": "light"
          },
          "output_type": "display_data"
        }
      ],
      "source": [
        "# loss\n",
        "plt.plot(history.history['loss'], label='train loss')\n",
        "plt.plot(history.history['val_loss'], label='val loss')\n",
        "plt.legend()\n",
        "\n",
        "plt.savefig('vgg-loss-rps-1.png')\n",
        "plt.show()"
      ]
    },
    {
      "cell_type": "code",
      "execution_count": 19,
      "metadata": {
        "colab": {
          "base_uri": "https://localhost:8080/",
          "height": 265
        },
        "id": "-RJylKMiMnOJ",
        "outputId": "6b20210d-1410-4c32-caf8-8f0afbe91f07"
      },
      "outputs": [
        {
          "data": {
            "image/png": "[encoded data removed]",
            "text/plain": [
              "<Figure size 432x288 with 1 Axes>"
            ]
          },
          "metadata": {
            "needs_background": "light"
          },
          "output_type": "display_data"
        }
      ],
      "source": [
        "# accuracies\n",
        "plt.plot(history.history['accuracy'], label='train acc')\n",
        "plt.plot(history.history['val_accuracy'], label='val acc')\n",
        "plt.legend()\n",
        "\n",
        "plt.savefig('vgg-acc-rps-1.png')\n",
        "plt.show()"
      ]
    },
    {
      "cell_type": "code",
      "execution_count": 22,
      "metadata": {
        "colab": {
          "base_uri": "https://localhost:8080/",
          "height": 571
        },
        "id": "WTqy0KkFipNO",
        "outputId": "e3e31ce6-d46e-4855-e80f-6f2adb5440bf"
      },
      "outputs": [
        {
          "name": "stdout",
          "output_type": "stream",
          "text": [
            "6/6 [==============================] - 3s 439ms/step - loss: 0.2376 - accuracy: 0.9310\n",
            "              precision    recall  f1-score   support\n",
            "\n",
            "           0       0.38      1.00      0.55         3\n",
            "           1       1.00      0.94      0.97        36\n",
            "           2       0.97      0.89      0.93        35\n",
            "           3       1.00      1.00      1.00        13\n",
            "\n",
            "    accuracy                           0.93        87\n",
            "   macro avg       0.84      0.96      0.86        87\n",
            "weighted avg       0.97      0.93      0.94        87\n",
            "\n"
          ]
        },
        {
          "data": {
            "image/png": "[encoded data removed]",
            "text/plain": [
              "<Figure size 432x288 with 2 Axes>"
            ]
          },
          "metadata": {
            "needs_background": "light"
          },
          "output_type": "display_data"
        }
      ],
      "source": [
        "def report_test(test_set,model=model):\n",
        "    \n",
        "    # evaluating test\n",
        "    model.evaluate(test_set,batch_size=32)\n",
        "    y_pred=model.predict(test_set)\n",
        "    y_pred=np.argmax(y_pred,axis=1)\n",
        "    accuracy_score(y_pred,test_set.classes)\n",
        "    print(classification_report(y_pred,test_set.classes))\n",
        "    \n",
        "    # confusion_matrix\n",
        "    labels = [i for i in training_set.class_indices]\n",
        "    cm =confusion_matrix(y_pred, test_set.classes)\n",
        "    disp = ConfusionMatrixDisplay(cm,display_labels=labels)\n",
        "    disp.plot(cmap='Blues',xticks_rotation='vertical')\n",
        "    plt.show()\n",
        "\n",
        "report_test(test_set)"
      ]
    },
    {
      "cell_type": "markdown",
      "metadata": {
        "id": "9Q7LoteSMnOL"
      },
      "source": [
        "# Export the Model"
      ]
    },
    {
      "cell_type": "code",
      "execution_count": null,
      "metadata": {
        "id": "yQTxJdmoMnOL"
      },
      "outputs": [],
      "source": [
        "file_model = \"VGG16_3.h5\"\n",
        "tf.keras.models.save_model(model,file_model)"
      ]
    },
    {
      "cell_type": "code",
      "execution_count": null,
      "metadata": {},
      "outputs": [],
      "source": [
        "# convert the history.history dict to a pandas DataFrame:     \n",
        "hist_df = pd.DataFrame(history.history) \n",
        "path = 'history/'\n",
        "# save to json:  \n",
        "hist_json_file = 'VGG16_3.json' \n",
        "with open(path+hist_json_file, mode='w') as f:\n",
        "    hist_df.to_json(f)\n",
        "\n",
        "# or save to csv: \n",
        "hist_csv_file = 'VGG16_3.csv'\n",
        "with open(path+hist_csv_file, mode='w') as f:\n",
        "    hist_df.to_csv(f)"
      ]
    }
  ],
  "metadata": {
    "accelerator": "GPU",
    "colab": {
      "collapsed_sections": [],
      "name": "Augmented_VGG16_Stage3.ipynb",
      "provenance": []
    },
    "interpreter": {
      "hash": "f86d353589da63107fa41935c647b090130dd82e36124730776efe65677d465c"
    },
    "kernelspec": {
      "display_name": "Python 3.10.2 64-bit",
      "language": "python",
      "name": "python3"
    },
    "language_info": {
      "codemirror_mode": {
        "name": "ipython",
        "version": 3
      },
      "file_extension": ".py",
      "mimetype": "text/x-python",
      "name": "python",
      "nbconvert_exporter": "python",
      "pygments_lexer": "ipython3",
      "version": "3.10.2"
    }
  },
  "nbformat": 4,
  "nbformat_minor": 0
}
