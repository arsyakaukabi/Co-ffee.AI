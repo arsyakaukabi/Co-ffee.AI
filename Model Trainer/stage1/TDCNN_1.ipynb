{
  "cells": [
    {
      "cell_type": "code",
      "execution_count": 3,
      "metadata": {
        "colab": {
          "base_uri": "https://localhost:8080/"
        },
        "id": "6IwraCW0htmr",
        "outputId": "b60f55fa-c6f5-426d-9b91-04485a2e7961"
      },
      "outputs": [
        {
          "name": "stdout",
          "output_type": "stream",
          "text": [
            "Mounted at /content/drive\n"
          ]
        }
      ],
      "source": [
        "from google.colab import drive\n",
        "drive.mount('/content/drive')"
      ]
    },
    {
      "cell_type": "code",
      "execution_count": 4,
      "metadata": {
        "id": "grezGoG_h3Tt"
      },
      "outputs": [],
      "source": [
        "import os\n",
        "import logging\n",
        "import tensorflow as tf\n",
        "import matplotlib.pyplot as plt\n",
        "import numpy as np\n",
        "# from efficientnet.keras import preprocess_input\n",
        "from keras.models import load_model\n",
        "from tensorflow.keras.layers import Input\n",
        "from tensorflow.keras.models import Model, Sequential\n",
        "from tensorflow.keras.layers import Input, Layer, ReLU, Conv2D, MaxPooling2D, GlobalAveragePooling2D, Dense, Add, Concatenate, Dropout\n",
        "from tensorflow.keras.models import Model\n",
        "from tensorflow.keras.applications import DenseNet121\n",
        "from tensorflow.keras.applications.vgg16 import VGG16\n",
        "from tensorflow.keras.applications.vgg16 import preprocess_input\n",
        "from tensorflow.keras.preprocessing import image\n",
        "from tensorflow.keras.preprocessing.image import ImageDataGenerator\n",
        "from tensorflow.keras.models import Sequential\n",
        "from tensorflow.keras.callbacks import EarlyStopping\n",
        "from sklearn.metrics import accuracy_score,classification_report,confusion_matrix,ConfusionMatrixDisplay\n",
        "from tensorflow.keras.applications.densenet import preprocess_input\n",
        "from tensorflow.keras.optimizers import Adam\n",
        "from tensorflow.keras.callbacks import ModelCheckpoint, ReduceLROnPlateau\n",
        "from tensorflow.keras.layers import Input, AveragePooling2D, ReLU, AlphaDropout, Conv2D, GlobalAveragePooling2D, Dense, Add, Concatenate, Dropout\n",
        "from tensorflow.keras.models import Model\n",
        "from tensorflow.keras.applications import InceptionV3, VGG16, MobileNetV2, ResNet50V2\n",
        "from tensorflow.keras.applications.inception_v3 import preprocess_input\n",
        "from tensorflow.keras.preprocessing import image\n",
        "from tensorflow.keras.preprocessing.image import ImageDataGenerator\n",
        "from tensorflow.keras.models import Sequential\n",
        "from tensorflow.keras.callbacks import EarlyStopping\n",
        "from sklearn.metrics import accuracy_score,classification_report,confusion_matrix,ConfusionMatrixDisplay\n",
        "from tensorflow.keras.optimizers import Adam, SGD\n",
        "from tensorflow.keras.callbacks import ModelCheckpoint, ReduceLROnPlateau\n",
        "\n",
        "import tensorflow as tf\n",
        "import numpy as np\n",
        "import pandas as pd\n",
        "import matplotlib.pyplot as plt\n",
        "\n",
        "import tensorflow as tf\n",
        "import numpy as np\n",
        "import pandas as pd\n",
        "import matplotlib.pyplot as plt\n",
        "# from keras.utils import load_img, img_to_array\n",
        "\n",
        "tf.get_logger().setLevel(logging.ERROR)\n",
        "\n",
        "os.environ['TF_CPP_MIN_LOG_LEVEL'] = '3' "
      ]
    },
    {
      "cell_type": "code",
      "execution_count": null,
      "metadata": {
        "id": "zc-h0Dsy9ciG"
      },
      "outputs": [],
      "source": [
        "name = 'TDCNN_1'\n",
        "ns = '1' # stage ke ns\n",
        "labels = ['Healthy', 'Unhealthy']"
      ]
    },
    {
      "cell_type": "markdown",
      "metadata": {
        "id": "_JT2Av1cm5aa"
      },
      "source": [
        "# Pre-processing of the images"
      ]
    },
    {
      "cell_type": "code",
      "execution_count": 5,
      "metadata": {
        "id": "TvrXsTWj7QHM"
      },
      "outputs": [],
      "source": [
        "#LOAD THE DATA\n",
        "\n",
        "#Data split\n",
        "train_path=f\"/content/drive/MyDrive/Capstone Co-ffee/newdataset/swatdcnn/data/Augmented/stage_{ns}\"\n",
        "val_path=f\"/content/drive/MyDrive/Capstone Co-ffee/newdataset/swatdcnn/data/Augmented/stage_{ns}/validation\"\n",
        "test_path=f\"/content/drive/MyDrive/Capstone Co-ffee/newdataset/swatdcnn/test/stage-{ns}/test\"\n",
        "\n",
        "#Set image shapes\n",
        "img_rows, img_cols = 224, 224\n",
        "channel_depth = 3\n",
        "input_shape = (img_rows,img_cols,channel_depth)\n",
        "model_input = Input(shape=input_shape)\n"
      ]
    },
    {
      "cell_type": "code",
      "execution_count": 6,
      "metadata": {
        "id": "eFGNSkGXm2sX"
      },
      "outputs": [],
      "source": [
        "batch_size = 16\n",
        "\n",
        "def ImgDataGen(file_path,f=False):    \n",
        "    file_datagen = ImageDataGenerator(preprocessing_function=preprocess_input)\n",
        "    file_set = file_datagen.flow_from_directory(\n",
        "        file_path,\n",
        "        target_size = (img_rows,img_cols),\n",
        "        batch_size = batch_size,\n",
        "        class_mode = 'categorical',\n",
        "        shuffle = f,\n",
        "    )\n",
        "    return file_set"
      ]
    },
    {
      "cell_type": "code",
      "execution_count": null,
      "metadata": {},
      "outputs": [],
      "source": [
        "test_set = ImgDataGen(test_path)\n",
        "num_classes= len(test_set.class_indices)"
      ]
    },
    {
      "cell_type": "markdown",
      "metadata": {
        "id": "oeZmfJaDmSdp"
      },
      "source": [
        "# Load Model"
      ]
    },
    {
      "cell_type": "code",
      "execution_count": 9,
      "metadata": {
        "id": "YYYSlAxjl_MU"
      },
      "outputs": [],
      "source": [
        "model1 = f'/content/drive/MyDrive/Capstone Co-ffee/weights/stage{ns}/densenet121_{ns}.h5'\n",
        "model2 = f'/content/drive/MyDrive/Capstone Co-ffee/weights/stage{ns}/InceptionV3_{ns}.h5'\n",
        "model3 = f'/content/drive/MyDrive/Capstone Co-ffee/weights/stage{ns}/VGG16_{ns}.h5'"
      ]
    },
    {
      "cell_type": "code",
      "execution_count": 10,
      "metadata": {
        "id": "yshWxsUjiv37"
      },
      "outputs": [],
      "source": [
        "def densenet(model_input):\n",
        "    densenet = DenseNet121(weights='imagenet', include_top=False, input_tensor=model_input)\n",
        "    for layer in densenet.layers:layer.trainable = False\n",
        "    # our layers - you can add more if you want\n",
        "    y = GlobalAveragePooling2D()(densenet.output)\n",
        "    y = Dense(512, activation='relu', use_bias=True)(y)\n",
        "    y = Dropout(0.5)(y)\n",
        "    prediction = Dense(num_classes,activation='softmax')(y)\n",
        "    model = Model(inputs=densenet.input, outputs=prediction, name='DenseNet121')\n",
        "    # tell the model what cost and optimization method to use\n",
        "    model.load_weights(model1)\n",
        "    return model\n",
        "\n",
        "def Inception(model_input):\n",
        "    InceptionV3_builder = InceptionV3(\n",
        "        weights='imagenet', \n",
        "        include_top=False, \n",
        "        input_tensor = model_input\n",
        "    )\n",
        "\n",
        "    #FINE-TUNING\n",
        "    for layer in InceptionV3_builder.layers:\n",
        "        layer.trainable = False\n",
        "    for BatchNormalization in InceptionV3_builder.layers:\n",
        "        BatchNormalization.trainable = True\n",
        "    x = InceptionV3_builder.layers[-1].output    \n",
        "    x = GlobalAveragePooling2D(name='GAP-inceptionv3')(x)\n",
        "    x = Dropout(0.5, name='Droput-inceptionv3')(x)\n",
        "    predictions = Dense(num_classes, activation='softmax', name='Softmax-inceptionv3')(x)\n",
        "    model = Model(inputs=InceptionV3_builder.input, outputs=predictions, name='Inceptionv3')\n",
        "    model.load_weights(model2)\n",
        "    return model\n",
        "\n",
        "def vgg16(model_input):\n",
        "    vgg16 = VGG16(weights='imagenet', include_top=False, input_tensor=model_input)\n",
        "    for layer in vgg16.layers:layer.trainable = False\n",
        "    # our layers - you can add more if you want\n",
        "    y = GlobalAveragePooling2D()(vgg16.output)\n",
        "    y = Dense(512, activation='relu', use_bias=True)(y)\n",
        "    y = Dropout(0.5)(y)\n",
        "    prediction = Dense(num_classes,activation='softmax')(y)\n",
        "    model = Model(inputs=vgg16.input, outputs=prediction, name='VGG16')\n",
        "    # tell the model what cost and optimization method to use\n",
        "    model.load_weights(model3)\n",
        "    return model"
      ]
    },
    {
      "cell_type": "code",
      "execution_count": 11,
      "metadata": {
        "colab": {
          "base_uri": "https://localhost:8080/"
        },
        "id": "GQ5tdgd-lz_s",
        "outputId": "a5705e30-53ef-4cb6-bea3-27a79a450077"
      },
      "outputs": [
        {
          "name": "stdout",
          "output_type": "stream",
          "text": [
            "Downloading data from https://storage.googleapis.com/tensorflow/keras-applications/densenet/densenet121_weights_tf_dim_ordering_tf_kernels_notop.h5\n",
            "29089792/29084464 [==============================] - 0s 0us/step\n",
            "29097984/29084464 [==============================] - 0s 0us/step\n",
            "Downloading data from https://storage.googleapis.com/tensorflow/keras-applications/inception_v3/inception_v3_weights_tf_dim_ordering_tf_kernels_notop.h5\n",
            "87916544/87910968 [==============================] - 1s 0us/step\n",
            "87924736/87910968 [==============================] - 1s 0us/step\n",
            "Downloading data from https://storage.googleapis.com/tensorflow/keras-applications/vgg16/vgg16_weights_tf_dim_ordering_tf_kernels_notop.h5\n",
            "58892288/58889256 [==============================] - 0s 0us/step\n",
            "58900480/58889256 [==============================] - 0s 0us/step\n"
          ]
        }
      ],
      "source": [
        "model1,model2,model3 = densenet(model_input),Inception(model_input),vgg16(model_input)"
      ]
    },
    {
      "cell_type": "markdown",
      "metadata": {
        "id": "KlNdOB2QBpgg"
      },
      "source": [
        "# Fusion Model"
      ]
    },
    {
      "cell_type": "code",
      "execution_count": 12,
      "metadata": {
        "id": "OU0bTlTmoNs7"
      },
      "outputs": [],
      "source": [
        "models = [model1, model2, model3]"
      ]
    },
    {
      "cell_type": "code",
      "execution_count": 13,
      "metadata": {
        "colab": {
          "base_uri": "https://localhost:8080/"
        },
        "id": "GwDhUw8I9u6e",
        "outputId": "458afc19-633f-4092-ad10-d8c4b9ea4bff"
      },
      "outputs": [
        {
          "data": {
            "text/plain": [
              "[<keras.engine.input_layer.InputLayer at 0x7f1ab5f47890>,\n",
              " <keras.engine.input_layer.InputLayer at 0x7f1ab5f47890>,\n",
              " <keras.engine.input_layer.InputLayer at 0x7f1ab5f47890>]"
            ]
          },
          "execution_count": 13,
          "metadata": {},
          "output_type": "execute_result"
        }
      ],
      "source": [
        "[m.layers[0] for m in models]"
      ]
    },
    {
      "cell_type": "code",
      "execution_count": 14,
      "metadata": {
        "id": "gLIGjypBpCLZ"
      },
      "outputs": [],
      "source": [
        "outputs = [m.output for m in models]\n",
        "y = tf.keras.layers.Average()(outputs)\n",
        "TDCNN = Model(model_input, y, name=name)"
      ]
    },
    {
      "cell_type": "code",
      "execution_count": 15,
      "metadata": {
        "colab": {
          "base_uri": "https://localhost:8080/"
        },
        "id": "dpoE-x40Uv-V",
        "outputId": "df526c03-641e-4780-f4db-9d1131af557d"
      },
      "outputs": [
        {
          "data": {
            "text/plain": [
              "(<KerasTensor: shape=(None, 224, 224, 3) dtype=float32 (created by layer 'input_1')>,\n",
              " <KerasTensor: shape=(None, 2) dtype=float32 (created by layer 'average')>)"
            ]
          },
          "execution_count": 15,
          "metadata": {},
          "output_type": "execute_result"
        }
      ],
      "source": [
        "TDCNN.input, TDCNN.output"
      ]
    },
    {
      "cell_type": "code",
      "execution_count": 16,
      "metadata": {
        "id": "Ry04Kp450vSY"
      },
      "outputs": [],
      "source": [
        "file_model = f\"weights/{name}.h5\"\n",
        "tf.keras.models.save_model(TDCNN,file_model)"
      ]
    },
    {
      "cell_type": "markdown",
      "metadata": {
        "id": "qO078mXkmb5I"
      },
      "source": [
        "# Testing"
      ]
    },
    {
      "cell_type": "code",
      "execution_count": 17,
      "metadata": {
        "id": "01416AGRnFsS"
      },
      "outputs": [],
      "source": [
        "optimizer = Adam(learning_rate=0.0001)\n",
        "\n",
        "TDCNN.compile(\n",
        "    optimizer=optimizer, \n",
        "    loss='categorical_crossentropy', \n",
        "    metrics=['accuracy']\n",
        ") "
      ]
    },
    {
      "cell_type": "code",
      "execution_count": 18,
      "metadata": {
        "colab": {
          "base_uri": "https://localhost:8080/"
        },
        "id": "OrVsdrHbnMjj",
        "outputId": "3e5f6270-2ead-4a67-e914-f27ab5360c08"
      },
      "outputs": [
        {
          "name": "stdout",
          "output_type": "stream",
          "text": [
            "30/30 [==============================] - 356s 12s/step - loss: 0.1697 - accuracy: 0.9658\n",
            "              precision    recall  f1-score   support\n",
            "\n",
            "           0       0.99      0.92      0.95       167\n",
            "           1       0.96      0.99      0.97       301\n",
            "\n",
            "    accuracy                           0.97       468\n",
            "   macro avg       0.97      0.95      0.96       468\n",
            "weighted avg       0.97      0.97      0.97       468\n",
            "\n"
          ]
        }
      ],
      "source": [
        "# evaluating test\n",
        "TDCNN.evaluate(test_set,batch_size=32)\n",
        "y_pred = TDCNN.predict(test_set)\n",
        "y_pred = np.argmax(y_pred,axis=1)\n",
        "accuracy_score(y_pred,test_set.classes)\n",
        "print(classification_report(y_pred,test_set.classes))"
      ]
    },
    {
      "cell_type": "code",
      "execution_count": 66,
      "metadata": {
        "colab": {
          "base_uri": "https://localhost:8080/",
          "height": 664
        },
        "id": "lq92ueduqGSn",
        "outputId": "788cfdee-9eee-4222-8648-5fc77bebd3e1"
      },
      "outputs": [
        {
          "data": {
            "image/png": "[encoded data removed]",
            "text/plain": [
              "<Figure size 1000x800 with 2 Axes>"
            ]
          },
          "metadata": {
            "needs_background": "light"
          },
          "output_type": "display_data"
        }
      ],
      "source": [
        "import seaborn as sns\n",
        "\n",
        "# confusion_matrix\n",
        "index = labels\n",
        "columns = labels  \n",
        "\n",
        "cm = confusion_matrix(y_pred, test_set.classes)\n",
        "cm_df = pd.DataFrame(cm,columns,index)                      \n",
        "fig = plt.figure(figsize=(10,8),dpi=100)  \n",
        "fig = sns.heatmap(cm_df,cmap='Blues',annot=True, fmt=\"d\",linewidths=1, square=True)\n"
      ]
    },
    {
      "cell_type": "code",
      "execution_count": 67,
      "metadata": {
        "id": "aa0KF4XJxdIN"
      },
      "outputs": [],
      "source": [
        "image_format = 'svg' # e.g .png, .svg, etc.\n",
        "image_name = name+'.svg'\n",
        "\n",
        "figure = fig.get_figure()  \n",
        "figure.savefig(image_name, format=image_format, dpi=1200)"
      ]
    }
  ],
  "metadata": {
    "colab": {
      "collapsed_sections": [],
      "name": "TDCNN.ipynb",
      "provenance": []
    },
    "kernelspec": {
      "display_name": "Python 3",
      "name": "python3"
    },
    "language_info": {
      "name": "python"
    }
  },
  "nbformat": 4,
  "nbformat_minor": 0
}
