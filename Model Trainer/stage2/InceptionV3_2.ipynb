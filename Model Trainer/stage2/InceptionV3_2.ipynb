{
  "cells": [
    {
      "cell_type": "code",
      "execution_count": 1,
      "metadata": {
        "id": "-R5uJoGyMnN-"
      },
      "outputs": [],
      "source": [
        "from tensorflow.keras.layers import Input, AveragePooling2D, ReLU, AlphaDropout, Conv2D, GlobalAveragePooling2D, Dense, Add, Concatenate, Dropout\n",
        "from tensorflow.keras.models import Model\n",
        "from tensorflow.keras.applications import InceptionV3, VGG16, MobileNetV2, ResNet50V2\n",
        "from tensorflow.keras.applications.inception_v3 import preprocess_input\n",
        "from tensorflow.keras.preprocessing import image\n",
        "from tensorflow.keras.preprocessing.image import ImageDataGenerator\n",
        "from tensorflow.keras.models import Sequential\n",
        "from tensorflow.keras.callbacks import EarlyStopping\n",
        "from sklearn.metrics import accuracy_score,classification_report,confusion_matrix,ConfusionMatrixDisplay\n",
        "from tensorflow.keras.optimizers import Adam, SGD\n",
        "from tensorflow.keras.callbacks import ModelCheckpoint, ReduceLROnPlateau\n",
        "\n",
        "import tensorflow as tf\n",
        "import numpy as np\n",
        "import pandas as pd\n",
        "import matplotlib.pyplot as plt\n"
      ]
    },
    {
      "cell_type": "markdown",
      "metadata": {
        "id": "QfgE-d8CMnOA"
      },
      "source": [
        "# Pre-processing of the images"
      ]
    },
    {
      "cell_type": "code",
      "execution_count": 3,
      "metadata": {
        "id": "kl2mIM3fMnOC"
      },
      "outputs": [],
      "source": [
        "#LOAD THE DATA\n",
        "\n",
        "#Data split\n",
        "train_path=\"swatdcnn/data/Augmented/stage_2/train\"\n",
        "val_path=\"swatdcnn/data/Augmented/stage_2/validation\"\n",
        "test_path=\"swatdcnn/test/stage-2/test\"\n",
        "\n",
        "#Set image shapes\n",
        "img_rows, img_cols = 224, 224\n",
        "input_shape = (img_rows,img_cols,3)\n",
        "model_input = Input(shape=input_shape)"
      ]
    },
    {
      "cell_type": "code",
      "execution_count": 4,
      "metadata": {
        "id": "UrOCFfEcMnOC"
      },
      "outputs": [],
      "source": [
        "IMG_SIZE = (224,224)\n",
        "\n",
        "def ImgDataGen(file_path,f=False):    \n",
        "    file_datagen = ImageDataGenerator(preprocessing_function=preprocess_input)\n",
        "    file_set = file_datagen.flow_from_directory(\n",
        "        file_path,\n",
        "        target_size = IMG_SIZE,\n",
        "        batch_size = 16,\n",
        "        class_mode = 'categorical',\n",
        "        shuffle = f,\n",
        "        seed =  42,\n",
        "    )\n",
        "    return file_set"
      ]
    },
    {
      "cell_type": "code",
      "execution_count": 5,
      "metadata": {
        "colab": {
          "base_uri": "https://localhost:8080/"
        },
        "id": "rBv2XqjmMnOD",
        "outputId": "89cdfe76-17ed-4fb3-d2a7-489ae6cdd33a"
      },
      "outputs": [
        {
          "name": "stdout",
          "output_type": "stream",
          "text": [
            "Found 6000 images belonging to 3 classes.\n",
            "Found 311 images belonging to 3 classes.\n",
            "Found 625 images belonging to 3 classes.\n"
          ]
        }
      ],
      "source": [
        "training_set, test_set, val_set = ImgDataGen(train_path, f=True), ImgDataGen(test_path), ImgDataGen(val_path)"
      ]
    },
    {
      "cell_type": "code",
      "execution_count": 7,
      "metadata": {
        "colab": {
          "base_uri": "https://localhost:8080/"
        },
        "id": "AUn6GabLfmgf",
        "outputId": "90743282-4b58-439b-f4ed-f89320bcecf3"
      },
      "outputs": [
        {
          "name": "stdout",
          "output_type": "stream",
          "text": [
            "['0_Rust', '1_Brown_Spots', '2_Sooty_Molds']\n"
          ]
        }
      ],
      "source": [
        "nb_train_samples = len(training_set.filenames)\n",
        "nb_validation_samples = len(val_set.filenames)\n",
        "nb_test_samples = len(test_set.filenames)\n",
        "num_classes= len(training_set.class_indices)\n",
        "labels = [i for i in training_set.class_indices]\n",
        "print(labels)"
      ]
    },
    {
      "cell_type": "markdown",
      "metadata": {
        "id": "4njNbSBpVXTX"
      },
      "source": [
        "# Training using InceptionV3"
      ]
    },
    {
      "cell_type": "code",
      "execution_count": 8,
      "metadata": {
        "id": "VZsu3PxSWPLh"
      },
      "outputs": [],
      "source": [
        "def my_model(model_input):\n",
        "    InceptionV3_builder = InceptionV3(\n",
        "        weights='imagenet', \n",
        "        include_top=False, \n",
        "        input_tensor = model_input\n",
        "    )\n",
        "\n",
        "#FINE-TUNING\n",
        "    for layer in InceptionV3_builder.layers:\n",
        "        layer.trainable = False\n",
        "    for BatchNormalization in InceptionV3_builder.layers:\n",
        "        BatchNormalization.trainable = True\n",
        "    x = InceptionV3_builder.layers[-1].output    \n",
        "    x = GlobalAveragePooling2D(name='GAP-inceptionv3')(x)\n",
        "    x = Dropout(0.5, name='Droput-inceptionv3')(x)\n",
        "    predictions = Dense(num_classes, activation='softmax', name='Softmax-inceptionv3')(x)\n",
        "    model = Model(inputs=InceptionV3_builder.input, outputs=predictions, name='inceptionv3')\n",
        "    return model"
      ]
    },
    {
      "cell_type": "code",
      "execution_count": 9,
      "metadata": {
        "colab": {
          "base_uri": "https://localhost:8080/"
        },
        "id": "FQbjeBnVobsr",
        "outputId": "04761b23-bbb6-4db8-ba61-992ed34299ae"
      },
      "outputs": [],
      "source": [
        "model = my_model(model_input)\n",
        "# model.summary()"
      ]
    },
    {
      "cell_type": "code",
      "execution_count": 10,
      "metadata": {
        "colab": {
          "base_uri": "https://localhost:8080/"
        },
        "id": "g9DpfHCBMnOI",
        "outputId": "041a957e-c45b-4218-8cff-32eccae12abb"
      },
      "outputs": [
        {
          "name": "stdout",
          "output_type": "stream",
          "text": [
            "Epoch 1/25\n",
            "375/375 [==============================] - 817s 2s/step - loss: 0.3226 - accuracy: 0.8798 - val_loss: 1.8521 - val_accuracy: 0.7260 - lr: 0.0010\n",
            "Epoch 2/25\n",
            "375/375 [==============================] - 732s 2s/step - loss: 0.2130 - accuracy: 0.9210 - val_loss: 0.1422 - val_accuracy: 0.9455 - lr: 0.0010\n",
            "Epoch 3/25\n",
            "375/375 [==============================] - 673s 2s/step - loss: 0.1714 - accuracy: 0.9342 - val_loss: 0.2435 - val_accuracy: 0.9199 - lr: 0.0010\n",
            "Epoch 4/25\n",
            "375/375 [==============================] - ETA: 0s - loss: 0.1618 - accuracy: 0.9385\n",
            "Epoch 4: ReduceLROnPlateau reducing learning rate to 0.0005000000237487257.\n",
            "375/375 [==============================] - 630s 2s/step - loss: 0.1618 - accuracy: 0.9385 - val_loss: 0.1581 - val_accuracy: 0.9343 - lr: 0.0010\n",
            "Epoch 5/25\n",
            "375/375 [==============================] - 630s 2s/step - loss: 0.1010 - accuracy: 0.9598 - val_loss: 0.1135 - val_accuracy: 0.9439 - lr: 5.0000e-04\n",
            "Epoch 6/25\n",
            "375/375 [==============================] - ETA: 0s - loss: 0.0915 - accuracy: 0.9655\n",
            "Epoch 6: ReduceLROnPlateau reducing learning rate to 0.0002500000118743628.\n",
            "375/375 [==============================] - 641s 2s/step - loss: 0.0915 - accuracy: 0.9655 - val_loss: 0.1559 - val_accuracy: 0.9423 - lr: 5.0000e-04\n",
            "Epoch 7/25\n",
            "375/375 [==============================] - 653s 2s/step - loss: 0.0543 - accuracy: 0.9797 - val_loss: 0.1567 - val_accuracy: 0.9359 - lr: 2.5000e-04\n",
            "Epoch 8/25\n",
            "375/375 [==============================] - 643s 2s/step - loss: 0.0413 - accuracy: 0.9852 - val_loss: 0.1371 - val_accuracy: 0.9599 - lr: 2.5000e-04\n",
            "Epoch 9/25\n",
            "375/375 [==============================] - 657s 2s/step - loss: 0.0324 - accuracy: 0.9890 - val_loss: 0.2390 - val_accuracy: 0.9231 - lr: 2.5000e-04\n",
            "Epoch 10/25\n",
            "375/375 [==============================] - ETA: 0s - loss: 0.0298 - accuracy: 0.9890\n",
            "Epoch 10: ReduceLROnPlateau reducing learning rate to 0.0001250000059371814.\n",
            "375/375 [==============================] - 631s 2s/step - loss: 0.0298 - accuracy: 0.9890 - val_loss: 0.1880 - val_accuracy: 0.9487 - lr: 2.5000e-04\n",
            "Epoch 11/25\n",
            "375/375 [==============================] - 634s 2s/step - loss: 0.0127 - accuracy: 0.9970 - val_loss: 0.2231 - val_accuracy: 0.9487 - lr: 1.2500e-04\n",
            "Epoch 12/25\n",
            "375/375 [==============================] - ETA: 0s - loss: 0.0093 - accuracy: 0.9978\n",
            "Epoch 12: ReduceLROnPlateau reducing learning rate to 6.25000029685907e-05.\n",
            "375/375 [==============================] - 644s 2s/step - loss: 0.0093 - accuracy: 0.9978 - val_loss: 0.2213 - val_accuracy: 0.9535 - lr: 1.2500e-04\n",
            "Epoch 13/25\n",
            "375/375 [==============================] - 652s 2s/step - loss: 0.0075 - accuracy: 0.9977 - val_loss: 0.2109 - val_accuracy: 0.9535 - lr: 6.2500e-05\n",
            "Epoch 14/25\n",
            "375/375 [==============================] - ETA: 0s - loss: 0.0055 - accuracy: 0.9987\n",
            "Epoch 14: ReduceLROnPlateau reducing learning rate to 3.125000148429535e-05.\n",
            "375/375 [==============================] - 647s 2s/step - loss: 0.0055 - accuracy: 0.9987 - val_loss: 0.2075 - val_accuracy: 0.9551 - lr: 6.2500e-05\n",
            "Epoch 15/25\n",
            "375/375 [==============================] - 677s 2s/step - loss: 0.0044 - accuracy: 0.9993 - val_loss: 0.2188 - val_accuracy: 0.9519 - lr: 3.1250e-05\n",
            "Epoch 16/25\n",
            "375/375 [==============================] - ETA: 0s - loss: 0.0046 - accuracy: 0.9990\n",
            "Epoch 16: ReduceLROnPlateau reducing learning rate to 1.5625000742147677e-05.\n",
            "375/375 [==============================] - 653s 2s/step - loss: 0.0046 - accuracy: 0.9990 - val_loss: 0.2416 - val_accuracy: 0.9551 - lr: 3.1250e-05\n",
            "Epoch 17/25\n",
            "375/375 [==============================] - 674s 2s/step - loss: 0.0042 - accuracy: 0.9988 - val_loss: 0.2405 - val_accuracy: 0.9503 - lr: 1.5625e-05\n",
            "Epoch 18/25\n",
            "375/375 [==============================] - ETA: 0s - loss: 0.0019 - accuracy: 0.9993\n",
            "Epoch 18: ReduceLROnPlateau reducing learning rate to 7.812500371073838e-06.\n",
            "375/375 [==============================] - 650s 2s/step - loss: 0.0019 - accuracy: 0.9993 - val_loss: 0.2428 - val_accuracy: 0.9551 - lr: 1.5625e-05\n",
            "Epoch 19/25\n",
            "375/375 [==============================] - 648s 2s/step - loss: 0.0032 - accuracy: 0.9990 - val_loss: 0.2427 - val_accuracy: 0.9535 - lr: 7.8125e-06\n",
            "Epoch 20/25\n",
            "375/375 [==============================] - ETA: 0s - loss: 0.0039 - accuracy: 0.9992\n",
            "Epoch 20: ReduceLROnPlateau reducing learning rate to 3.906250185536919e-06.\n",
            "375/375 [==============================] - 644s 2s/step - loss: 0.0039 - accuracy: 0.9992 - val_loss: 0.2499 - val_accuracy: 0.9487 - lr: 7.8125e-06\n",
            "Epoch 21/25\n",
            "375/375 [==============================] - 640s 2s/step - loss: 0.0019 - accuracy: 0.9995 - val_loss: 0.2508 - val_accuracy: 0.9519 - lr: 3.9063e-06\n",
            "Epoch 22/25\n",
            "375/375 [==============================] - ETA: 0s - loss: 0.0021 - accuracy: 0.9993\n",
            "Epoch 22: ReduceLROnPlateau reducing learning rate to 1.9531250927684596e-06.\n",
            "375/375 [==============================] - 632s 2s/step - loss: 0.0021 - accuracy: 0.9993 - val_loss: 0.2516 - val_accuracy: 0.9519 - lr: 3.9063e-06\n",
            "Epoch 23/25\n",
            "375/375 [==============================] - 635s 2s/step - loss: 0.0029 - accuracy: 0.9983 - val_loss: 0.2508 - val_accuracy: 0.9519 - lr: 1.9531e-06\n",
            "Epoch 24/25\n",
            "375/375 [==============================] - ETA: 0s - loss: 0.0012 - accuracy: 0.9998\n",
            "Epoch 24: ReduceLROnPlateau reducing learning rate to 1e-06.\n",
            "375/375 [==============================] - 640s 2s/step - loss: 0.0012 - accuracy: 0.9998 - val_loss: 0.2545 - val_accuracy: 0.9535 - lr: 1.9531e-06\n",
            "Epoch 25/25\n",
            "375/375 [==============================] - 646s 2s/step - loss: 0.0012 - accuracy: 0.9997 - val_loss: 0.2570 - val_accuracy: 0.9535 - lr: 1.0000e-06\n",
            "04:33:47 train_time\n",
            "16427.395371198654 Seconds\n"
          ]
        }
      ],
      "source": [
        "#MODEL COMPILATION WITH HYPER-PARAMETERS, LOSS FUNCTIONS AND TRAINING!\n",
        "import time\n",
        "\n",
        "batch_size = 16\n",
        "\n",
        "epochs = 25\n",
        "\n",
        "start_time = time.time()\n",
        "\n",
        "model.compile(\n",
        "    optimizer=Adam(learning_rate=0.001),\n",
        "    loss='categorical_crossentropy',\n",
        "    metrics=['accuracy']\n",
        ")\n",
        "\n",
        "reduce_lr = ReduceLROnPlateau(\n",
        "    monitor='val_accuracy', \n",
        "    factor=0.5, \n",
        "    patience=2,\n",
        "    verbose=1, \n",
        "    mode='max',\n",
        "    min_lr=0.000001\n",
        ")\n",
        "\n",
        "callbacks = [reduce_lr]\n",
        "\n",
        "history = model.fit(\n",
        "    training_set, \n",
        "    steps_per_epoch=nb_train_samples // batch_size,\n",
        "    epochs=epochs, \n",
        "    validation_data=val_set,\n",
        "    callbacks=callbacks, \n",
        "    validation_steps=nb_validation_samples // batch_size, \n",
        "    verbose=1\n",
        ")\n",
        "\n",
        "elapsed_time = time.time() - start_time\n",
        "train_time = time.strftime(\"%H:%M:%S\", time.gmtime(elapsed_time))\n",
        "\n",
        "print(train_time, 'train_time')\n",
        "print(elapsed_time, 'Seconds')"
      ]
    },
    {
      "cell_type": "markdown",
      "metadata": {
        "id": "HwhvBE78WPLi"
      },
      "source": [
        "# Reporting "
      ]
    },
    {
      "cell_type": "code",
      "execution_count": 11,
      "metadata": {
        "id": "kGsmmymGWPLi"
      },
      "outputs": [
        {
          "data": {
            "image/png": "[encoded data removed]",
            "text/plain": [
              "<Figure size 432x288 with 1 Axes>"
            ]
          },
          "metadata": {
            "needs_background": "light"
          },
          "output_type": "display_data"
        },
        {
          "data": {
            "image/png": "[encoded data removed]",
            "text/plain": [
              "<Figure size 432x288 with 1 Axes>"
            ]
          },
          "metadata": {
            "needs_background": "light"
          },
          "output_type": "display_data"
        }
      ],
      "source": [
        "def report_train(history):\n",
        "    # loss\n",
        "    plt.plot(history.history['loss'], label='train loss')\n",
        "    plt.plot(history.history['val_loss'], label='val loss')\n",
        "    plt.legend()\n",
        "    plt.show()\n",
        "    # accuracies\n",
        "    plt.plot(history.history['accuracy'], label='train acc')\n",
        "    plt.plot(history.history['val_accuracy'], label='val acc')\n",
        "    plt.legend()\n",
        "    plt.show()\n",
        "\n",
        "report_train(history)"
      ]
    },
    {
      "cell_type": "markdown",
      "metadata": {
        "id": "EmWfe5MMWPLj"
      },
      "source": [
        "Report Test"
      ]
    },
    {
      "cell_type": "code",
      "execution_count": 12,
      "metadata": {
        "id": "yKKChwaqWPLj"
      },
      "outputs": [
        {
          "name": "stdout",
          "output_type": "stream",
          "text": [
            "20/20 [==============================] - 32s 2s/step - loss: 0.1774 - accuracy: 0.9486\n",
            "20/20 [==============================] - 18s 844ms/step\n",
            "              precision    recall  f1-score   support\n",
            "\n",
            "           0       0.94      0.94      0.94       133\n",
            "           1       0.92      0.91      0.91        88\n",
            "           2       0.99      1.00      0.99        90\n",
            "\n",
            "    accuracy                           0.95       311\n",
            "   macro avg       0.95      0.95      0.95       311\n",
            "weighted avg       0.95      0.95      0.95       311\n",
            "\n"
          ]
        },
        {
          "data": {
            "image/png": "[encoded data removed]",
            "text/plain": [
              "<Figure size 432x288 with 2 Axes>"
            ]
          },
          "metadata": {
            "needs_background": "light"
          },
          "output_type": "display_data"
        }
      ],
      "source": [
        "def report_test(test_set,model=model):\n",
        "    \n",
        "    # evaluating test\n",
        "    model.evaluate(test_set,batch_size=32)\n",
        "    y_pred=model.predict(test_set)\n",
        "    y_pred=np.argmax(y_pred,axis=1)\n",
        "    accuracy_score(y_pred,test_set.classes)\n",
        "    print(classification_report(y_pred,test_set.classes))\n",
        "    \n",
        "    # confusion_matrix\n",
        "    labels = [i for i in training_set.class_indices]\n",
        "    cm =confusion_matrix(y_pred, test_set.classes)\n",
        "    disp = ConfusionMatrixDisplay(cm,display_labels=labels)\n",
        "    disp.plot(cmap='Blues',xticks_rotation='vertical')\n",
        "    plt.show()\n",
        "\n",
        "report_test(test_set)"
      ]
    },
    {
      "cell_type": "markdown",
      "metadata": {
        "id": "9Q7LoteSMnOL"
      },
      "source": [
        "# Export the Model"
      ]
    },
    {
      "cell_type": "markdown",
      "metadata": {
        "id": "BWtFwGzEHMRF"
      },
      "source": [
        "Save model"
      ]
    },
    {
      "cell_type": "code",
      "execution_count": 13,
      "metadata": {
        "id": "yQTxJdmoMnOL"
      },
      "outputs": [],
      "source": [
        "file_model = \"InceptionV3_2.h5\"\n",
        "tf.keras.models.save_model(model,file_model)\n",
        "# tf.keras.models.save_weights(model,file_weights)"
      ]
    },
    {
      "cell_type": "markdown",
      "metadata": {
        "id": "34C9D2WVHI3c"
      },
      "source": [
        "Save history"
      ]
    },
    {
      "cell_type": "code",
      "execution_count": 14,
      "metadata": {
        "id": "ZgNTaI-0G9o1"
      },
      "outputs": [],
      "source": [
        "# convert the history.history dict to a pandas DataFrame:     \n",
        "hist_df = pd.DataFrame(history.history) \n",
        "path = 'history/'\n",
        "# save to json:  \n",
        "hist_json_file = 'InceptionV3_2.json' \n",
        "with open(path+hist_json_file, mode='w') as f:\n",
        "    hist_df.to_json(f)\n",
        "\n",
        "# or save to csv: \n",
        "hist_csv_file = 'InceptionV3_2.csv'\n",
        "with open(path+hist_csv_file, mode='w') as f:\n",
        "    hist_df.to_csv(f)"
      ]
    }
  ],
  "metadata": {
    "accelerator": "GPU",
    "colab": {
      "collapsed_sections": [],
      "name": "Augmented_VGG16.ipynb",
      "provenance": []
    },
    "interpreter": {
      "hash": "3bb9173259f6878292b48560b11a6674c5b5ff6b7141adc615907870a8a23933"
    },
    "kernelspec": {
      "display_name": "Python 3.9.12 ('base')",
      "language": "python",
      "name": "python3"
    },
    "language_info": {
      "codemirror_mode": {
        "name": "ipython",
        "version": 3
      },
      "file_extension": ".py",
      "mimetype": "text/x-python",
      "name": "python",
      "nbconvert_exporter": "python",
      "pygments_lexer": "ipython3",
      "version": "3.9.12"
    },
    "orig_nbformat": 4
  },
  "nbformat": 4,
  "nbformat_minor": 0
}
