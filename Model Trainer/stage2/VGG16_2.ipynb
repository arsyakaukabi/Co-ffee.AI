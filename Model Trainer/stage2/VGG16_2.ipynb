{
  "cells": [
    {
      "cell_type": "code",
      "execution_count": null,
      "metadata": {
        "id": "-R5uJoGyMnN-"
      },
      "outputs": [],
      "source": [
        "from tensorflow.keras.layers import Input, Lambda, Dense, Flatten, Dropout, GlobalAveragePooling2D\n",
        "from tensorflow.keras.models import Model\n",
        "from tensorflow.keras.applications.vgg16 import VGG16\n",
        "from tensorflow.keras.applications.vgg16 import preprocess_input\n",
        "from tensorflow.keras.preprocessing import image\n",
        "from tensorflow.keras.preprocessing.image import ImageDataGenerator\n",
        "from tensorflow.keras.models import Sequential\n",
        "from tensorflow.keras.applications.densenet import preprocess_input\n",
        "from tensorflow.keras.optimizers import Adam\n",
        "from tensorflow.keras.callbacks import ModelCheckpoint, ReduceLROnPlateau\n",
        "from sklearn.metrics import accuracy_score,classification_report,confusion_matrix,ConfusionMatrixDisplay\n",
        "\n",
        "import tensorflow as tf\n",
        "import numpy as np\n",
        "import pandas as pd\n",
        "import os\n",
        "import cv2\n",
        "import matplotlib.pyplot as plt"
      ]
    },
    {
      "cell_type": "markdown",
      "metadata": {
        "id": "QfgE-d8CMnOA"
      },
      "source": [
        "# Pre-processing of the images"
      ]
    },
    {
      "cell_type": "code",
      "execution_count": null,
      "metadata": {
        "id": "kl2mIM3fMnOC"
      },
      "outputs": [],
      "source": [
        "img_rows, img_cols = 224, 224\n",
        "channel_depth = 3\n",
        "input_shape = (img_rows,img_cols,channel_depth)\n",
        "model_input = Input(shape=input_shape)\n",
        "\n",
        "\n",
        "train_path=\"swatdcnn/data/Augmented/stage_2/train\"\n",
        "test_path=\"swatdcnn/test/stage-2/test\"\n",
        "val_path=\"swatdcnn/data/Augmented/stage_2/validation\""
      ]
    },
    {
      "cell_type": "code",
      "execution_count": null,
      "metadata": {
        "id": "UrOCFfEcMnOC"
      },
      "outputs": [],
      "source": [
        "IMG_SIZE = (224,224)\n",
        "\n",
        "def ImgDataGen(file_path,f=False):    \n",
        "    file_datagen = ImageDataGenerator(preprocessing_function=preprocess_input)\n",
        "    file_set = file_datagen.flow_from_directory(\n",
        "        file_path,\n",
        "        target_size = IMG_SIZE,\n",
        "        batch_size = 16,\n",
        "        class_mode = 'categorical',\n",
        "        shuffle = f\n",
        "    )\n",
        "    return file_set"
      ]
    },
    {
      "cell_type": "code",
      "execution_count": null,
      "metadata": {
        "id": "rBv2XqjmMnOD"
      },
      "outputs": [],
      "source": [
        "training_set, test_set, val_set = ImgDataGen(train_path, f=True), ImgDataGen(test_path), ImgDataGen(val_path)"
      ]
    },
    {
      "cell_type": "code",
      "execution_count": null,
      "metadata": {
        "id": "vL04tNSZMnOD"
      },
      "outputs": [],
      "source": [
        "nb_train_samples = len(training_set.filenames)\n",
        "nb_validation_samples = len(val_set.filenames)\n",
        "nb_test_samples = len(test_set.filenames)\n",
        "num_classes= len(training_set.class_indices)\n",
        "labels = [i for i in training_set.class_indices]\n",
        "print(labels)"
      ]
    },
    {
      "cell_type": "markdown",
      "metadata": {
        "id": "4njNbSBpVXTX"
      },
      "source": [
        "# Training using VGG16"
      ]
    },
    {
      "cell_type": "code",
      "execution_count": null,
      "metadata": {
        "id": "r1deKPfcMnOH"
      },
      "outputs": [],
      "source": [
        "def my_model(model_input):\n",
        "    vgg16 = VGG16(weights='imagenet', include_top=False, input_tensor=model_input)\n",
        "    for layer in vgg16.layers:layer.trainable = False\n",
        "    # our layers - you can add more if you want\n",
        "    y = GlobalAveragePooling2D()(vgg16.output)\n",
        "    y = Dense(512, activation='relu', use_bias=True)(y)\n",
        "    y = Dropout(0.5)(y)\n",
        "    prediction = Dense(num_classes,activation='softmax')(y)\n",
        "    model = Model(inputs=vgg16.input, outputs=prediction, name='VGG16')\n",
        "    # tell the model what cost and optimization method to use\n",
        "    return model"
      ]
    },
    {
      "cell_type": "code",
      "execution_count": null,
      "metadata": {
        "id": "A1xr9DMPMnOH"
      },
      "outputs": [],
      "source": [
        "model = my_model(model_input)\n",
        "# model.summary()"
      ]
    },
    {
      "cell_type": "code",
      "execution_count": null,
      "metadata": {
        "colab": {
          "base_uri": "https://localhost:8080/",
          "height": 1000
        },
        "id": "JwBlyu0NMnOH",
        "outputId": "1024f020-eb49-4757-aad5-cd98d1ab05a2"
      },
      "outputs": [
        {
          "name": "stdout",
          "output_type": "stream",
          "text": [
            "Epoch 1/25\n",
            "375/375 [==============================] - 190s 504ms/step - loss: 0.7720 - accuracy: 0.6602 - val_loss: 0.4996 - val_accuracy: 0.8205 - lr: 1.0000e-04\n",
            "Epoch 2/25\n",
            "375/375 [==============================] - 172s 459ms/step - loss: 0.4837 - accuracy: 0.8133 - val_loss: 0.3899 - val_accuracy: 0.8542 - lr: 1.0000e-04\n",
            "Epoch 3/25\n",
            "375/375 [==============================] - 170s 455ms/step - loss: 0.3966 - accuracy: 0.8470 - val_loss: 0.3383 - val_accuracy: 0.8654 - lr: 1.0000e-04\n",
            "Epoch 4/25\n",
            "375/375 [==============================] - 171s 457ms/step - loss: 0.3481 - accuracy: 0.8577 - val_loss: 0.3119 - val_accuracy: 0.8750 - lr: 1.0000e-04\n",
            "Epoch 5/25\n",
            "375/375 [==============================] - 169s 451ms/step - loss: 0.3146 - accuracy: 0.8720 - val_loss: 0.2965 - val_accuracy: 0.8702 - lr: 1.0000e-04\n",
            "Epoch 6/25\n",
            "375/375 [==============================] - ETA: 0s - loss: 0.2953 - accuracy: 0.8773\n",
            "Epoch 6: ReduceLROnPlateau reducing learning rate to 4.999999873689376e-05.\n",
            "375/375 [==============================] - 171s 457ms/step - loss: 0.2953 - accuracy: 0.8773 - val_loss: 0.2842 - val_accuracy: 0.8750 - lr: 1.0000e-04\n",
            "Epoch 7/25\n",
            "375/375 [==============================] - 170s 454ms/step - loss: 0.2782 - accuracy: 0.8815 - val_loss: 0.2750 - val_accuracy: 0.8814 - lr: 5.0000e-05\n",
            "Epoch 8/25\n",
            "375/375 [==============================] - 170s 453ms/step - loss: 0.2672 - accuracy: 0.8878 - val_loss: 0.2698 - val_accuracy: 0.8846 - lr: 5.0000e-05\n",
            "Epoch 9/25\n",
            "375/375 [==============================] - 173s 461ms/step - loss: 0.2625 - accuracy: 0.8895 - val_loss: 0.2656 - val_accuracy: 0.8862 - lr: 5.0000e-05\n",
            "Epoch 10/25\n",
            "375/375 [==============================] - 169s 451ms/step - loss: 0.2543 - accuracy: 0.8965 - val_loss: 0.2641 - val_accuracy: 0.8814 - lr: 5.0000e-05\n",
            "Epoch 11/25\n",
            "375/375 [==============================] - 174s 463ms/step - loss: 0.2495 - accuracy: 0.8970 - val_loss: 0.2591 - val_accuracy: 0.8926 - lr: 5.0000e-05\n",
            "Epoch 12/25\n",
            "375/375 [==============================] - 181s 482ms/step - loss: 0.2412 - accuracy: 0.8987 - val_loss: 0.2556 - val_accuracy: 0.8814 - lr: 5.0000e-05\n",
            "Epoch 13/25\n",
            "375/375 [==============================] - ETA: 0s - loss: 0.2353 - accuracy: 0.8998\n",
            "Epoch 13: ReduceLROnPlateau reducing learning rate to 2.499999936844688e-05.\n",
            "375/375 [==============================] - 170s 454ms/step - loss: 0.2353 - accuracy: 0.8998 - val_loss: 0.2564 - val_accuracy: 0.8814 - lr: 5.0000e-05\n",
            "Epoch 14/25\n",
            "375/375 [==============================] - 171s 456ms/step - loss: 0.2298 - accuracy: 0.9055 - val_loss: 0.2522 - val_accuracy: 0.8782 - lr: 2.5000e-05\n",
            "Epoch 15/25\n",
            "375/375 [==============================] - ETA: 0s - loss: 0.2278 - accuracy: 0.9082\n",
            "Epoch 15: ReduceLROnPlateau reducing learning rate to 1.249999968422344e-05.\n",
            "375/375 [==============================] - 170s 455ms/step - loss: 0.2278 - accuracy: 0.9082 - val_loss: 0.2506 - val_accuracy: 0.8814 - lr: 2.5000e-05\n",
            "Epoch 16/25\n",
            "375/375 [==============================] - 171s 457ms/step - loss: 0.2264 - accuracy: 0.9078 - val_loss: 0.2496 - val_accuracy: 0.8894 - lr: 1.2500e-05\n",
            "Epoch 17/25\n",
            "375/375 [==============================] - ETA: 0s - loss: 0.2220 - accuracy: 0.9075\n",
            "Epoch 17: ReduceLROnPlateau reducing learning rate to 6.24999984211172e-06.\n",
            "375/375 [==============================] - 171s 456ms/step - loss: 0.2220 - accuracy: 0.9075 - val_loss: 0.2492 - val_accuracy: 0.8894 - lr: 1.2500e-05\n",
            "Epoch 18/25\n",
            "375/375 [==============================] - 169s 451ms/step - loss: 0.2213 - accuracy: 0.9078 - val_loss: 0.2487 - val_accuracy: 0.8846 - lr: 6.2500e-06\n",
            "Epoch 19/25\n",
            "375/375 [==============================] - ETA: 0s - loss: 0.2233 - accuracy: 0.9070\n",
            "Epoch 19: ReduceLROnPlateau reducing learning rate to 3.12499992105586e-06.\n",
            "375/375 [==============================] - 171s 456ms/step - loss: 0.2233 - accuracy: 0.9070 - val_loss: 0.2485 - val_accuracy: 0.8862 - lr: 6.2500e-06\n",
            "Epoch 20/25\n",
            "375/375 [==============================] - 169s 452ms/step - loss: 0.2196 - accuracy: 0.9055 - val_loss: 0.2488 - val_accuracy: 0.8846 - lr: 3.1250e-06\n",
            "Epoch 21/25\n",
            "375/375 [==============================] - ETA: 0s - loss: 0.2225 - accuracy: 0.9090\n",
            "Epoch 21: ReduceLROnPlateau reducing learning rate to 1.56249996052793e-06.\n",
            "375/375 [==============================] - 170s 454ms/step - loss: 0.2225 - accuracy: 0.9090 - val_loss: 0.2483 - val_accuracy: 0.8846 - lr: 3.1250e-06\n",
            "Epoch 22/25\n",
            "375/375 [==============================] - 170s 452ms/step - loss: 0.2205 - accuracy: 0.9115 - val_loss: 0.2482 - val_accuracy: 0.8846 - lr: 1.5625e-06\n",
            "Epoch 23/25\n",
            "375/375 [==============================] - ETA: 0s - loss: 0.2244 - accuracy: 0.9047\n",
            "Epoch 23: ReduceLROnPlateau reducing learning rate to 1e-06.\n",
            "375/375 [==============================] - 171s 455ms/step - loss: 0.2244 - accuracy: 0.9047 - val_loss: 0.2482 - val_accuracy: 0.8846 - lr: 1.5625e-06\n",
            "Epoch 24/25\n",
            "375/375 [==============================] - 170s 453ms/step - loss: 0.2174 - accuracy: 0.9098 - val_loss: 0.2481 - val_accuracy: 0.8846 - lr: 1.0000e-06\n",
            "Epoch 25/25\n",
            "375/375 [==============================] - 171s 455ms/step - loss: 0.2218 - accuracy: 0.9085 - val_loss: 0.2480 - val_accuracy: 0.8846 - lr: 1.0000e-06\n"
          ]
        },
        {
          "data": {
            "application/vnd.google.colaboratory.intrinsic+json": {
              "type": "string"
            },
            "text/plain": [
              "'01:11:35'"
            ]
          },
          "execution_count": 17,
          "metadata": {},
          "output_type": "execute_result"
        }
      ],
      "source": [
        "#MODEL COMPILATION WITH HYPER-PARAMETERS, LOSS FUNCTIONS AND TRAINING!\n",
        "import time\n",
        "\n",
        "batch_size = 16\n",
        "\n",
        "epochs = 25\n",
        "\n",
        "start_time = time.time()\n",
        "\n",
        "optimizer = Adam(learning_rate=0.0001)\n",
        "\n",
        "model.compile(\n",
        "    optimizer=optimizer, \n",
        "    loss='categorical_crossentropy', \n",
        "    metrics=['accuracy']\n",
        ") \n",
        "\n",
        "reduce_lr = ReduceLROnPlateau(\n",
        "    monitor='val_accuracy', \n",
        "    factor=0.5, \n",
        "    patience=2,                          \n",
        "    verbose=1, \n",
        "    mode='max', \n",
        "    min_lr=0.000001\n",
        ")\n",
        "\n",
        "callbacks = [reduce_lr]\n",
        "\n",
        "history = model.fit(\n",
        "    training_set,\n",
        "    epochs=epochs, \n",
        "    steps_per_epoch=nb_train_samples // batch_size,\n",
        "    validation_data=val_set,\n",
        "    callbacks=callbacks, \n",
        "    validation_steps=nb_validation_samples // batch_size, \n",
        "    verbose=1\n",
        ")\n",
        "\n",
        "elapsed_time = time.time() - start_time\n",
        "time.strftime(\"%H:%M:%S\", time.gmtime(elapsed_time))\n"
      ]
    },
    {
      "cell_type": "code",
      "execution_count": null,
      "metadata": {
        "colab": {
          "base_uri": "https://localhost:8080/",
          "height": 265
        },
        "id": "InrwUaLjMnOJ",
        "outputId": "e566c1ce-95a2-4ca8-f4e7-54e0cd75145a"
      },
      "outputs": [
        {
          "data": {
            "image/png": "[encoded data removed]",
            "text/plain": [
              "<Figure size 432x288 with 1 Axes>"
            ]
          },
          "metadata": {
            "needs_background": "light"
          },
          "output_type": "display_data"
        }
      ],
      "source": [
        "# loss\n",
        "plt.plot(history.history['loss'], label='train loss')\n",
        "plt.plot(history.history['val_loss'], label='val loss')\n",
        "plt.legend()\n",
        "\n",
        "plt.savefig('vgg-loss-rps-1.png')\n",
        "plt.show()"
      ]
    },
    {
      "cell_type": "code",
      "execution_count": null,
      "metadata": {
        "colab": {
          "base_uri": "https://localhost:8080/",
          "height": 265
        },
        "id": "-RJylKMiMnOJ",
        "outputId": "17a3a8ea-b6dc-4ca2-de5d-d3331eb3bea8"
      },
      "outputs": [
        {
          "data": {
            "image/png": "[encoded data removed]",
            "text/plain": [
              "<Figure size 432x288 with 1 Axes>"
            ]
          },
          "metadata": {
            "needs_background": "light"
          },
          "output_type": "display_data"
        }
      ],
      "source": [
        "# accuracies\n",
        "plt.plot(history.history['accuracy'], label='train acc')\n",
        "plt.plot(history.history['val_accuracy'], label='val acc')\n",
        "plt.legend()\n",
        "\n",
        "plt.savefig('vgg-acc-rps-1.png')\n",
        "plt.show()"
      ]
    },
    {
      "cell_type": "code",
      "execution_count": null,
      "metadata": {
        "id": "WTqy0KkFipNO"
      },
      "outputs": [],
      "source": [
        "def report_test(test_set,model=model):\n",
        "    \n",
        "    # evaluating test\n",
        "    model.evaluate(test_set,batch_size=32)\n",
        "    y_pred=model.predict(test_set)\n",
        "    y_pred=np.argmax(y_pred,axis=1)\n",
        "    accuracy_score(y_pred,test_set.classes)\n",
        "    print(classification_report(y_pred,test_set.classes))\n",
        "    \n",
        "    # confusion_matrix\n",
        "    labels = [i for i in training_set.class_indices]\n",
        "    cm =confusion_matrix(y_pred, test_set.classes)\n",
        "    disp = ConfusionMatrixDisplay(cm,display_labels=labels)\n",
        "    disp.plot(cmap='Blues',xticks_rotation='vertical')\n",
        "    plt.show()\n",
        "\n",
        "report_test(test_set)"
      ]
    },
    {
      "cell_type": "markdown",
      "metadata": {
        "id": "9Q7LoteSMnOL"
      },
      "source": [
        "# Export the Model"
      ]
    },
    {
      "cell_type": "code",
      "execution_count": null,
      "metadata": {
        "id": "yQTxJdmoMnOL"
      },
      "outputs": [],
      "source": [
        "file_model = \"VGG16_2.h5\"\n",
        "tf.keras.models.save_model(model,file_model)"
      ]
    },
    {
      "cell_type": "code",
      "execution_count": null,
      "metadata": {
        "id": "mi6LYG0rkPr7"
      },
      "outputs": [],
      "source": [
        "# convert the history.history dict to a pandas DataFrame:     \n",
        "hist_df = pd.DataFrame(history.history) \n",
        "path = 'history/'\n",
        "# save to json:  \n",
        "hist_json_file = 'VGG16_2.json' \n",
        "with open(path+hist_json_file, mode='w') as f:\n",
        "    hist_df.to_json(f)\n",
        "\n",
        "# or save to csv: \n",
        "hist_csv_file = 'VGG16_2.csv'\n",
        "with open(path+hist_csv_file, mode='w') as f:\n",
        "    hist_df.to_csv(f)"
      ]
    }
  ],
  "metadata": {
    "accelerator": "GPU",
    "colab": {
      "collapsed_sections": [],
      "name": "Augmented_VGG16_Stage2.ipynb",
      "provenance": []
    },
    "interpreter": {
      "hash": "f86d353589da63107fa41935c647b090130dd82e36124730776efe65677d465c"
    },
    "kernelspec": {
      "display_name": "Python 3.10.2 64-bit",
      "language": "python",
      "name": "python3"
    },
    "language_info": {
      "codemirror_mode": {
        "name": "ipython",
        "version": 3
      },
      "file_extension": ".py",
      "mimetype": "text/x-python",
      "name": "python",
      "nbconvert_exporter": "python",
      "pygments_lexer": "ipython3",
      "version": "3.10.2"
    }
  },
  "nbformat": 4,
  "nbformat_minor": 0
}
