{
  "cells": [
    {
      "cell_type": "code",
      "execution_count": null,
      "metadata": {
        "id": "-R5uJoGyMnN-"
      },
      "outputs": [],
      "source": [
        "from tensorflow.keras.layers import Input, Lambda, Dense, Flatten, Dropout, GlobalAveragePooling2D\n",
        "from tensorflow.keras.models import Model\n",
        "from tensorflow.keras.applications.vgg16 import VGG16\n",
        "from tensorflow.keras.applications.vgg16 import preprocess_input\n",
        "from tensorflow.keras.preprocessing import image\n",
        "from tensorflow.keras.preprocessing.image import ImageDataGenerator\n",
        "from tensorflow.keras.models import Sequential\n",
        "from tensorflow.keras.applications.densenet import preprocess_input\n",
        "from tensorflow.keras.optimizers import Adam\n",
        "from tensorflow.keras.callbacks import ModelCheckpoint, ReduceLROnPlateau\n",
        "from sklearn.metrics import accuracy_score,classification_report,confusion_matrix,ConfusionMatrixDisplay\n",
        "\n",
        "\n",
        "import tensorflow as tf\n",
        "import numpy as np\n",
        "import pandas as pd\n",
        "import os\n",
        "import cv2\n",
        "import matplotlib.pyplot as plt"
      ]
    },
    {
      "cell_type": "markdown",
      "metadata": {
        "id": "QfgE-d8CMnOA"
      },
      "source": [
        "# Pre-processing the images"
      ]
    },
    {
      "cell_type": "code",
      "execution_count": null,
      "metadata": {
        "id": "kl2mIM3fMnOC"
      },
      "outputs": [],
      "source": [
        "img_rows, img_cols = 224, 224\n",
        "channel_depth = 3\n",
        "input_shape = (img_rows,img_cols,channel_depth)\n",
        "model_input = Input(shape=input_shape)\n",
        "\n",
        "\n",
        "train_path=\"swatdcnn/data/Augmented/stage_1/train\"\n",
        "test_path=\"swatdcnn/test/stage-1/test\"\n",
        "val_path=\"swatdcnn/data/Augmented/stage_1/validation\""
      ]
    },
    {
      "cell_type": "code",
      "execution_count": null,
      "metadata": {
        "id": "UrOCFfEcMnOC"
      },
      "outputs": [],
      "source": [
        "IMG_SIZE = (224,224)\n",
        "\n",
        "def ImgDataGen(file_path,f=False):    \n",
        "    file_datagen = ImageDataGenerator(preprocessing_function=preprocess_input)\n",
        "    file_set = file_datagen.flow_from_directory(\n",
        "        file_path,\n",
        "        target_size = IMG_SIZE,\n",
        "        batch_size = 16,\n",
        "        class_mode = 'categorical',\n",
        "        shuffle = f\n",
        "    )\n",
        "    return file_set"
      ]
    },
    {
      "cell_type": "code",
      "execution_count": null,
      "metadata": {
        "colab": {
          "base_uri": "https://localhost:8080/"
        },
        "id": "rBv2XqjmMnOD",
        "outputId": "27b78a76-6aba-4d22-dfb9-b7c6bfaec062"
      },
      "outputs": [
        {
          "name": "stdout",
          "output_type": "stream",
          "text": [
            "Found 6000 images belonging to 2 classes.\n",
            "Found 468 images belonging to 2 classes.\n",
            "Found 933 images belonging to 2 classes.\n"
          ]
        }
      ],
      "source": [
        "training_set, test_set, val_set = ImgDataGen(train_path, f=True), ImgDataGen(test_path), ImgDataGen(val_path)"
      ]
    },
    {
      "cell_type": "code",
      "execution_count": null,
      "metadata": {
        "colab": {
          "base_uri": "https://localhost:8080/"
        },
        "id": "vL04tNSZMnOD",
        "outputId": "c5eab860-8961-4802-af16-d392df9db5d3"
      },
      "outputs": [
        {
          "name": "stdout",
          "output_type": "stream",
          "text": [
            "['0_Healthy', '1_Unhealthy']\n"
          ]
        }
      ],
      "source": [
        "nb_train_samples = len(training_set.filenames)\n",
        "nb_validation_samples = len(val_set.filenames)\n",
        "nb_test_samples = len(test_set.filenames)\n",
        "num_classes= len(training_set.class_indices)\n",
        "labels = [i for i in training_set.class_indices]\n",
        "print(labels)"
      ]
    },
    {
      "cell_type": "markdown",
      "metadata": {
        "id": "4njNbSBpVXTX"
      },
      "source": [
        "# Training using VGG16"
      ]
    },
    {
      "cell_type": "code",
      "execution_count": null,
      "metadata": {
        "id": "r1deKPfcMnOH"
      },
      "outputs": [],
      "source": [
        "def my_model(model_input):\n",
        "    vgg16 = VGG16(weights='imagenet', include_top=False, input_tensor=model_input)\n",
        "    for layer in vgg16.layers:layer.trainable = False\n",
        "    # our layers - you can add more if you want\n",
        "    y = GlobalAveragePooling2D()(vgg16.output)\n",
        "    y = Dense(512, activation='relu', use_bias=True)(y)\n",
        "    y = Dropout(0.5)(y)\n",
        "    prediction = Dense(num_classes,activation='softmax')(y)\n",
        "    model = Model(inputs=vgg16.input, outputs=prediction, name='VGG16')\n",
        "    # tell the model what cost and optimization method to use\n",
        "    return model"
      ]
    },
    {
      "cell_type": "code",
      "execution_count": null,
      "metadata": {
        "id": "A1xr9DMPMnOH"
      },
      "outputs": [],
      "source": [
        "model = my_model(model_input)"
      ]
    },
    {
      "cell_type": "code",
      "execution_count": null,
      "metadata": {
        "colab": {
          "base_uri": "https://localhost:8080/",
          "height": 1000
        },
        "id": "JwBlyu0NMnOH",
        "outputId": "25edd5da-bbce-41e0-fd6a-b0f726d69854"
      },
      "outputs": [
        {
          "name": "stdout",
          "output_type": "stream",
          "text": [
            "Epoch 1/25\n",
            "375/375 [==============================] - 320s 818ms/step - loss: 0.5591 - accuracy: 0.7117 - val_loss: 0.4214 - val_accuracy: 0.8362 - lr: 1.0000e-04\n",
            "Epoch 2/25\n",
            "375/375 [==============================] - 286s 762ms/step - loss: 0.4104 - accuracy: 0.8235 - val_loss: 0.3577 - val_accuracy: 0.8642 - lr: 1.0000e-04\n",
            "Epoch 3/25\n",
            "375/375 [==============================] - 280s 748ms/step - loss: 0.3623 - accuracy: 0.8475 - val_loss: 0.3325 - val_accuracy: 0.8675 - lr: 1.0000e-04\n",
            "Epoch 4/25\n",
            "375/375 [==============================] - 280s 745ms/step - loss: 0.3310 - accuracy: 0.8678 - val_loss: 0.3114 - val_accuracy: 0.8718 - lr: 1.0000e-04\n",
            "Epoch 5/25\n",
            "375/375 [==============================] - 278s 743ms/step - loss: 0.3106 - accuracy: 0.8733 - val_loss: 0.3094 - val_accuracy: 0.8696 - lr: 1.0000e-04\n",
            "Epoch 6/25\n",
            "375/375 [==============================] - 281s 748ms/step - loss: 0.2948 - accuracy: 0.8800 - val_loss: 0.2937 - val_accuracy: 0.8761 - lr: 1.0000e-04\n",
            "Epoch 7/25\n",
            "375/375 [==============================] - 280s 747ms/step - loss: 0.2831 - accuracy: 0.8838 - val_loss: 0.2861 - val_accuracy: 0.8793 - lr: 1.0000e-04\n",
            "Epoch 8/25\n",
            "375/375 [==============================] - 282s 752ms/step - loss: 0.2723 - accuracy: 0.8943 - val_loss: 0.2787 - val_accuracy: 0.8793 - lr: 1.0000e-04\n",
            "Epoch 9/25\n",
            "375/375 [==============================] - 279s 744ms/step - loss: 0.2646 - accuracy: 0.8923 - val_loss: 0.2713 - val_accuracy: 0.8836 - lr: 1.0000e-04\n",
            "Epoch 10/25\n",
            "375/375 [==============================] - 278s 742ms/step - loss: 0.2557 - accuracy: 0.8970 - val_loss: 0.2761 - val_accuracy: 0.8836 - lr: 1.0000e-04\n",
            "Epoch 11/25\n",
            "375/375 [==============================] - 278s 741ms/step - loss: 0.2491 - accuracy: 0.9005 - val_loss: 0.2689 - val_accuracy: 0.8858 - lr: 1.0000e-04\n",
            "Epoch 12/25\n",
            "375/375 [==============================] - 278s 743ms/step - loss: 0.2426 - accuracy: 0.8985 - val_loss: 0.2570 - val_accuracy: 0.8912 - lr: 1.0000e-04\n",
            "Epoch 13/25\n",
            "375/375 [==============================] - 278s 741ms/step - loss: 0.2343 - accuracy: 0.9053 - val_loss: 0.2565 - val_accuracy: 0.8836 - lr: 1.0000e-04\n",
            "Epoch 14/25\n",
            "375/375 [==============================] - ETA: 0s - loss: 0.2319 - accuracy: 0.9038\n",
            "Epoch 14: ReduceLROnPlateau reducing learning rate to 4.999999873689376e-05.\n",
            "375/375 [==============================] - 277s 738ms/step - loss: 0.2319 - accuracy: 0.9038 - val_loss: 0.2544 - val_accuracy: 0.8901 - lr: 1.0000e-04\n",
            "Epoch 15/25\n",
            "375/375 [==============================] - 278s 741ms/step - loss: 0.2206 - accuracy: 0.9085 - val_loss: 0.2502 - val_accuracy: 0.8922 - lr: 5.0000e-05\n",
            "Epoch 16/25\n",
            "375/375 [==============================] - 276s 738ms/step - loss: 0.2176 - accuracy: 0.9087 - val_loss: 0.2472 - val_accuracy: 0.8922 - lr: 5.0000e-05\n",
            "Epoch 17/25\n",
            "375/375 [==============================] - ETA: 0s - loss: 0.2168 - accuracy: 0.9123\n",
            "Epoch 17: ReduceLROnPlateau reducing learning rate to 2.499999936844688e-05.\n",
            "375/375 [==============================] - 278s 741ms/step - loss: 0.2168 - accuracy: 0.9123 - val_loss: 0.2632 - val_accuracy: 0.8858 - lr: 5.0000e-05\n",
            "Epoch 18/25\n",
            "375/375 [==============================] - 278s 740ms/step - loss: 0.2153 - accuracy: 0.9145 - val_loss: 0.2460 - val_accuracy: 0.8944 - lr: 2.5000e-05\n",
            "Epoch 19/25\n",
            "375/375 [==============================] - 278s 740ms/step - loss: 0.2094 - accuracy: 0.9148 - val_loss: 0.2522 - val_accuracy: 0.8922 - lr: 2.5000e-05\n",
            "Epoch 20/25\n",
            "375/375 [==============================] - ETA: 0s - loss: 0.2103 - accuracy: 0.9122\n",
            "Epoch 20: ReduceLROnPlateau reducing learning rate to 1.249999968422344e-05.\n",
            "375/375 [==============================] - 283s 756ms/step - loss: 0.2103 - accuracy: 0.9122 - val_loss: 0.2536 - val_accuracy: 0.8890 - lr: 2.5000e-05\n",
            "Epoch 21/25\n",
            "375/375 [==============================] - 278s 742ms/step - loss: 0.2087 - accuracy: 0.9122 - val_loss: 0.2473 - val_accuracy: 0.8901 - lr: 1.2500e-05\n",
            "Epoch 22/25\n",
            "375/375 [==============================] - 275s 735ms/step - loss: 0.2078 - accuracy: 0.9185 - val_loss: 0.2449 - val_accuracy: 0.8966 - lr: 1.2500e-05\n",
            "Epoch 23/25\n",
            "375/375 [==============================] - 279s 744ms/step - loss: 0.2053 - accuracy: 0.9192 - val_loss: 0.2499 - val_accuracy: 0.8912 - lr: 1.2500e-05\n",
            "Epoch 24/25\n",
            "375/375 [==============================] - ETA: 0s - loss: 0.2074 - accuracy: 0.9143\n",
            "Epoch 24: ReduceLROnPlateau reducing learning rate to 6.24999984211172e-06.\n",
            "375/375 [==============================] - 276s 736ms/step - loss: 0.2074 - accuracy: 0.9143 - val_loss: 0.2482 - val_accuracy: 0.8922 - lr: 1.2500e-05\n",
            "Epoch 25/25\n",
            "375/375 [==============================] - 280s 747ms/step - loss: 0.2061 - accuracy: 0.9162 - val_loss: 0.2460 - val_accuracy: 0.8912 - lr: 6.2500e-06\n"
          ]
        },
        {
          "data": {
            "application/vnd.google.colaboratory.intrinsic+json": {
              "type": "string"
            },
            "text/plain": [
              "'01:57:39'"
            ]
          },
          "execution_count": 19,
          "metadata": {},
          "output_type": "execute_result"
        }
      ],
      "source": [
        "#MODEL COMPILATION WITH HYPER-PARAMETERS, LOSS FUNCTIONS AND TRAINING!\n",
        "import time\n",
        "\n",
        "batch_size = 16\n",
        "\n",
        "epochs = 25\n",
        "\n",
        "start_time = time.time()\n",
        "\n",
        "optimizer = Adam(learning_rate=0.0001)\n",
        "\n",
        "model.compile(\n",
        "    optimizer=optimizer, \n",
        "    loss='categorical_crossentropy', \n",
        "    metrics=['accuracy']\n",
        ") \n",
        "\n",
        "reduce_lr = ReduceLROnPlateau(\n",
        "    monitor='val_accuracy', \n",
        "    factor=0.5, \n",
        "    patience=2,                          \n",
        "    verbose=1, \n",
        "    mode='max', \n",
        "    min_lr=0.000001\n",
        ")\n",
        "\n",
        "callbacks = [reduce_lr]\n",
        "\n",
        "history = model.fit(\n",
        "    training_set,\n",
        "    epochs=epochs, \n",
        "    steps_per_epoch=nb_train_samples // batch_size,\n",
        "    validation_data=val_set,\n",
        "    callbacks=callbacks, \n",
        "    validation_steps=nb_validation_samples // batch_size, \n",
        "    verbose=1\n",
        ")\n",
        "\n",
        "elapsed_time = time.time() - start_time\n",
        "time.strftime(\"%H:%M:%S\", time.gmtime(elapsed_time))"
      ]
    },
    {
      "cell_type": "code",
      "execution_count": null,
      "metadata": {
        "colab": {
          "base_uri": "https://localhost:8080/",
          "height": 265
        },
        "id": "InrwUaLjMnOJ",
        "outputId": "d713f1e4-3fed-4d19-fac1-009f9f0a9977"
      },
      "outputs": [
        {
          "data": {
            "image/png": "[encoded data removed]",
            "text/plain": [
              "<Figure size 432x288 with 1 Axes>"
            ]
          },
          "metadata": {
            "needs_background": "light"
          },
          "output_type": "display_data"
        }
      ],
      "source": [
        "# loss\n",
        "plt.plot(history.history['loss'], label='train loss')\n",
        "plt.plot(history.history['val_loss'], label='val loss')\n",
        "plt.legend()\n",
        "\n",
        "plt.savefig('vgg-loss-rps-1.png')\n",
        "plt.show()"
      ]
    },
    {
      "cell_type": "code",
      "execution_count": null,
      "metadata": {
        "colab": {
          "base_uri": "https://localhost:8080/",
          "height": 265
        },
        "id": "-RJylKMiMnOJ",
        "outputId": "6486918c-2e97-4b38-b64c-dc3c35281192"
      },
      "outputs": [
        {
          "data": {
            "image/png": "[encoded data removed]",
            "text/plain": [
              "<Figure size 432x288 with 1 Axes>"
            ]
          },
          "metadata": {
            "needs_background": "light"
          },
          "output_type": "display_data"
        }
      ],
      "source": [
        "# accuracies\n",
        "plt.plot(history.history['accuracy'], label='train acc')\n",
        "plt.plot(history.history['val_accuracy'], label='val acc')\n",
        "plt.legend()\n",
        "\n",
        "plt.savefig('vgg-acc-rps-1.png')\n",
        "plt.show()"
      ]
    },
    {
      "cell_type": "code",
      "execution_count": null,
      "metadata": {
        "colab": {
          "base_uri": "https://localhost:8080/"
        },
        "id": "NbUyuP6KMnOK",
        "outputId": "c382c10f-2d1d-4807-dc9b-16c7594e242d"
      },
      "outputs": [
        {
          "name": "stdout",
          "output_type": "stream",
          "text": [
            "30/30 [==============================] - 32s 1s/step - loss: 0.4082 - accuracy: 0.8632\n"
          ]
        },
        {
          "data": {
            "text/plain": [
              "[0.40818795561790466, 0.8632478713989258]"
            ]
          },
          "execution_count": 18,
          "metadata": {},
          "output_type": "execute_result"
        }
      ],
      "source": [
        "model.evaluate(test_set,batch_size=32)"
      ]
    },
    {
      "cell_type": "code",
      "execution_count": null,
      "metadata": {
        "id": "I4TIAJztMnOK"
      },
      "outputs": [],
      "source": [
        "from sklearn.metrics import accuracy_score,classification_report,confusion_matrix,ConfusionMatrixDisplay\n",
        "import numpy as np"
      ]
    },
    {
      "cell_type": "code",
      "execution_count": null,
      "metadata": {
        "colab": {
          "base_uri": "https://localhost:8080/",
          "height": 506
        },
        "id": "WTqy0KkFipNO",
        "outputId": "8e5ab882-c51f-4f17-9b8c-0f853cbd9e7a"
      },
      "outputs": [
        {
          "name": "stdout",
          "output_type": "stream",
          "text": [
            "30/30 [==============================] - 32s 1s/step - loss: 0.2243 - accuracy: 0.9038\n",
            "              precision    recall  f1-score   support\n",
            "\n",
            "           0       0.83      0.88      0.85       146\n",
            "           1       0.94      0.92      0.93       322\n",
            "\n",
            "    accuracy                           0.90       468\n",
            "   macro avg       0.88      0.90      0.89       468\n",
            "weighted avg       0.91      0.90      0.90       468\n",
            "\n"
          ]
        },
        {
          "data": {
            "image/png": "[encoded data removed]",
            "text/plain": [
              "<Figure size 432x288 with 2 Axes>"
            ]
          },
          "metadata": {
            "needs_background": "light"
          },
          "output_type": "display_data"
        }
      ],
      "source": [
        "def report_test(test_set,model=model):\n",
        "    \n",
        "    # evaluating test\n",
        "    model.evaluate(test_set,batch_size=32)\n",
        "    y_pred=model.predict(test_set)\n",
        "    y_pred=np.argmax(y_pred,axis=1)\n",
        "    accuracy_score(y_pred,test_set.classes)\n",
        "    print(classification_report(y_pred,test_set.classes))\n",
        "    \n",
        "    # confusion_matrix\n",
        "    labels = [i for i in training_set.class_indices]\n",
        "    cm =confusion_matrix(y_pred, test_set.classes)\n",
        "    disp = ConfusionMatrixDisplay(cm,display_labels=labels)\n",
        "    disp.plot(cmap='Blues',xticks_rotation='vertical')\n",
        "    plt.show()\n",
        "\n",
        "report_test(test_set)"
      ]
    },
    {
      "cell_type": "markdown",
      "metadata": {
        "id": "9Q7LoteSMnOL"
      },
      "source": [
        "# Export the Model"
      ]
    },
    {
      "cell_type": "code",
      "execution_count": null,
      "metadata": {},
      "outputs": [],
      "source": [
        "file_model = \"VGG16_1.h5\"\n",
        "tf.keras.models.save_model(model,file_model)"
      ]
    },
    {
      "cell_type": "code",
      "execution_count": null,
      "metadata": {},
      "outputs": [],
      "source": [
        "# convert the history.history dict to a pandas DataFrame:     \n",
        "hist_df = pd.DataFrame(history.history) \n",
        "path = 'history/'\n",
        "# save to json:  \n",
        "hist_json_file = 'VGG16_1.json' \n",
        "with open(path+hist_json_file, mode='w') as f:\n",
        "    hist_df.to_json(f)\n",
        "\n",
        "# or save to csv: \n",
        "hist_csv_file = 'VGG16_1.csv'\n",
        "with open(path+hist_csv_file, mode='w') as f:\n",
        "    hist_df.to_csv(f)"
      ]
    }
  ],
  "metadata": {
    "accelerator": "GPU",
    "colab": {
      "collapsed_sections": [],
      "name": "Augmented_VGG16_Stage1.ipynb",
      "provenance": []
    },
    "interpreter": {
      "hash": "f86d353589da63107fa41935c647b090130dd82e36124730776efe65677d465c"
    },
    "kernelspec": {
      "display_name": "Python 3.10.2 64-bit",
      "language": "python",
      "name": "python3"
    },
    "language_info": {
      "codemirror_mode": {
        "name": "ipython",
        "version": 3
      },
      "file_extension": ".py",
      "mimetype": "text/x-python",
      "name": "python",
      "nbconvert_exporter": "python",
      "pygments_lexer": "ipython3",
      "version": "3.10.2"
    }
  },
  "nbformat": 4,
  "nbformat_minor": 0
}
